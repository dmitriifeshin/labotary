{
 "cells": [
  {
   "cell_type": "markdown",
   "metadata": {
    "id": "rloJD2luQnuQ"
   },
   "source": [
    "# Лабораторная работа"
   ]
  },
  {
   "cell_type": "markdown",
   "metadata": {
    "id": "xIZ02xiML9p_"
   },
   "source": [
    "Баллы за секции:\n",
    "- *Задание 1* - 10 баллов\n",
    "- *Задание 2* - 20 баллов\n",
    "- *Задание 3* - 30 баллов\n",
    "- **Итого** - 60 баллов\n",
    "\n",
    "Оценка за лабу $ = \\frac{score}{6}$"
   ]
  },
  {
   "cell_type": "markdown",
   "metadata": {
    "id": "OEDe7x8YRID0"
   },
   "source": [
    "## Внимание! Attention! Achtung!"
   ]
  },
  {
   "cell_type": "markdown",
   "metadata": {
    "id": "ZEmKA-7NR1Y9"
   },
   "source": [
    "**Данная лабораторная работа является блокирующей**, т.е. если лабораторная работа не выполнена, то оценка за курс - неуд.\n",
    "\n",
    "Лабораторная работа считается выполненной, если **за каждое из заданий получено не менее 2 баллов**."
   ]
  },
  {
   "cell_type": "markdown",
   "metadata": {
    "id": "N1ZbZ8dkR5q_"
   },
   "source": [
    "## Формат сдачи лабораторной работы"
   ]
  },
  {
   "cell_type": "markdown",
   "metadata": {
    "id": "tEwx7LLQR-h8"
   },
   "source": [
    "Данная лабораторная работа сдается так же, как и проект - заполняете данный ноутбук, отправляете его через GitHub с указанием проверяющего."
   ]
  },
  {
   "cell_type": "markdown",
   "metadata": {
    "id": "qKwaNCJKj7b8"
   },
   "source": [
    "**Ассистенты не будут запускать ячейки кода, а смотреть на выведенный результат и код. Если ячейка кода не запущена - балл не ставится, даже при правильно написанном коде.**\n",
    "\n",
    "***(Комментарии что курс по Python легче чем по C++ учтены)***"
   ]
  },
  {
   "cell_type": "markdown",
   "metadata": {
    "id": "hlUYK7MDRGye"
   },
   "source": [
    ">**Примечание**\n",
    ">\n",
    ">Данные задания вдохновлены предметом \"Введение в анализ данных\" 2 курса, по итогу которого идёт отбор на DS-поток. Если вы видите себя в смежных областях, советуем выполнить данную лабораторку по максимуму."
   ]
  },
  {
   "cell_type": "code",
   "execution_count": 45,
   "metadata": {
    "id": "1qzEqvohoZfB"
   },
   "outputs": [],
   "source": [
    "# Всё необходимое для выполнения данной лабораторной работы!\n",
    "import requests\n",
    "from time import sleep\n",
    "\n",
    "import numpy as np\n",
    "import pandas as pd\n",
    "import matplotlib.pyplot as plt\n",
    "import seaborn as sns"
   ]
  },
  {
   "cell_type": "markdown",
   "metadata": {
    "id": "rB_FYHU2k8w-"
   },
   "source": [
    "## Задание 1. Парсинг - 10 баллов"
   ]
  },
  {
   "cell_type": "markdown",
   "metadata": {
    "id": "F0gr5cjaoQJy"
   },
   "source": [
    "В этом задании Вам предстоит работать с API сайта <a target=\"_blank\" href=\"hh.ru\">hh.ru</a>. Документация доступна по <a target=\"_blank\" href=\"https://github.com/hhru/api/blob/master/docs/vacancies.md#search\">ссылке</a>."
   ]
  },
  {
   "cell_type": "markdown",
   "metadata": {
    "id": "v8iCQYk7TNvK"
   },
   "source": [
    "<b><font color=\"red\">Внимание!</font> При работе с API не забывайте делать паузы между запросами, иначе вас забанят. Просрочка дедлайна по этой причине не принимается!</b>"
   ]
  },
  {
   "cell_type": "markdown",
   "metadata": {
    "id": "-HAm80rqRqAZ"
   },
   "source": [
    "**Задача:**\n",
    "1. выбрать 5 интересующих вас профессий (не смежных, т.е. Аналатик и Data Engineer не считается корректным)\n",
    "2. затем получить доступные по данным профессиям вакансии в Москве и выделить их физические координаты\n",
    "3. нанести полученные координаты на карту местоположения компаний"
   ]
  },
  {
   "cell_type": "markdown",
   "metadata": {
    "id": "H0GhQJvipXYj"
   },
   "source": [
    "*Пример запроса для профессии:*"
   ]
  },
  {
   "cell_type": "code",
   "execution_count": 46,
   "metadata": {
    "id": "aZLGoS_DpsXI"
   },
   "outputs": [],
   "source": [
    "URL = 'https://api.hh.ru/vacancies'\n",
    "\n",
    "params = {\n",
    "    'text': \"python-разработчик\",\n",
    "    'area': 1,\n",
    "    'page': 0,\n",
    "    'per_page': 10\n",
    "}\n",
    "\n",
    "data = requests.get(URL, params).json()"
   ]
  },
  {
   "cell_type": "markdown",
   "metadata": {
    "id": "yHQtIBRQp91_"
   },
   "source": [
    "Если Ваш запрос прошел успешно, то вы получите следующие ключи (значения данных ключей вы найдете по ссылке на документацию):"
   ]
  },
  {
   "cell_type": "code",
   "execution_count": 47,
   "metadata": {
    "colab": {
     "base_uri": "https://localhost:8080/"
    },
    "id": "DW6mxzggpvKw",
    "outputId": "a284ee47-486c-402a-fe26-88fa9677a98d"
   },
   "outputs": [
    {
     "data": {
      "text/plain": [
       "dict_keys(['items', 'found', 'pages', 'page', 'per_page', 'clusters', 'arguments', 'fixes', 'suggests', 'alternate_url'])"
      ]
     },
     "execution_count": 47,
     "metadata": {},
     "output_type": "execute_result"
    }
   ],
   "source": [
    "data.keys()"
   ]
  },
  {
   "cell_type": "code",
   "execution_count": 48,
   "metadata": {
    "scrolled": true
   },
   "outputs": [
    {
     "data": {
      "text/plain": [
       "{'id': '98638255',\n",
       " 'premium': False,\n",
       " 'name': 'Junior/Стажер Python-разработчик',\n",
       " 'department': None,\n",
       " 'has_test': False,\n",
       " 'response_letter_required': False,\n",
       " 'area': {'id': '1', 'name': 'Москва', 'url': 'https://api.hh.ru/areas/1'},\n",
       " 'salary': {'from': None, 'to': 45000, 'currency': 'RUR', 'gross': True},\n",
       " 'type': {'id': 'open', 'name': 'Открытая'},\n",
       " 'address': None,\n",
       " 'response_url': None,\n",
       " 'sort_point_distance': None,\n",
       " 'published_at': '2024-05-08T22:07:55+0300',\n",
       " 'created_at': '2024-05-08T22:07:55+0300',\n",
       " 'archived': False,\n",
       " 'apply_alternate_url': 'https://hh.ru/applicant/vacancy_response?vacancyId=98638255',\n",
       " 'insider_interview': None,\n",
       " 'url': 'https://api.hh.ru/vacancies/98638255?host=hh.ru',\n",
       " 'alternate_url': 'https://hh.ru/vacancy/98638255',\n",
       " 'relations': [],\n",
       " 'employer': {'id': '11050419',\n",
       "  'name': 'Матвеев Дмитрий Александрович',\n",
       "  'url': 'https://api.hh.ru/employers/11050419',\n",
       "  'alternate_url': 'https://hh.ru/employer/11050419',\n",
       "  'logo_urls': None,\n",
       "  'vacancies_url': 'https://api.hh.ru/vacancies?employer_id=11050419',\n",
       "  'accredited_it_employer': False,\n",
       "  'trusted': True},\n",
       " 'snippet': {'requirement': 'Наличие завершенных проектов (учебные или для себя тоже подойдут - присылайте сразу ссылку). Опыт программирования на Python (знание фреймворка Django), знание...',\n",
       "  'responsibility': 'дашборды (диаграмма Ганта) и карты (на картах отображение машин на основе координат). - справочники с возможностью чтения и редактирования данных. - '},\n",
       " 'contacts': None,\n",
       " 'schedule': {'id': 'fullDay', 'name': 'Полный день'},\n",
       " 'working_days': [],\n",
       " 'working_time_intervals': [],\n",
       " 'working_time_modes': [],\n",
       " 'accept_temporary': True,\n",
       " 'professional_roles': [{'id': '96', 'name': 'Программист, разработчик'}],\n",
       " 'accept_incomplete_resumes': False,\n",
       " 'experience': {'id': 'between1And3', 'name': 'От 1 года до 3 лет'},\n",
       " 'employment': {'id': 'full', 'name': 'Полная занятость'},\n",
       " 'adv_response_url': None,\n",
       " 'is_adv_vacancy': False,\n",
       " 'adv_context': None}"
      ]
     },
     "execution_count": 48,
     "metadata": {},
     "output_type": "execute_result"
    }
   ],
   "source": [
    "data['items'][3]"
   ]
  },
  {
   "cell_type": "markdown",
   "metadata": {
    "id": "O-qAwsmrTAvQ"
   },
   "source": [
    ">**Примечание**\n",
    ">\n",
    ">В `data['pages']` будет хранится количество найденных страниц вакансий - для корректного сбора данных Вам нужно пробежать по **КАЖДОЙ** странице и сделать соотвествующие запросы."
   ]
  },
  {
   "cell_type": "markdown",
   "metadata": {
    "id": "OEPOQVYxsMyN"
   },
   "source": [
    ">**Совет**\n",
    ">\n",
    ">Посмотрите что хранится в `items`!"
   ]
  },
  {
   "cell_type": "markdown",
   "metadata": {
    "id": "JWvkFrh9qhkj"
   },
   "source": [
    "(1 балл) Выберете для нас 5 наиболее интересных специальностей и получите по ним имеющиеся вакансии:"
   ]
  },
  {
   "cell_type": "code",
   "execution_count": 49,
   "metadata": {
    "id": "_Nm-vyiBqugq"
   },
   "outputs": [],
   "source": [
    "import time"
   ]
  },
  {
   "cell_type": "code",
   "execution_count": 58,
   "metadata": {},
   "outputs": [],
   "source": [
    "specialities = [\n",
    "    'Уборщик',\n",
    "    'Повар',\n",
    "    'Курьер',\n",
    "    'python-разработчик',\n",
    "    'Водитель',\n",
    "]"
   ]
  },
  {
   "cell_type": "code",
   "execution_count": 60,
   "metadata": {
    "scrolled": true
   },
   "outputs": [],
   "source": [
    "vacancies = []\n",
    "params['per_page'] = 50\n",
    "for job in specialities:\n",
    "    params['text'] = job\n",
    "    job_vacs = []\n",
    "    for j in range(10):\n",
    "        params['page'] = j\n",
    "        current_vacancies = requests.get(URL, params).json()\n",
    "        time.sleep(0.1)\n",
    "        for vacancy in current_vacancies['items']:\n",
    "            job_vacs.append(vacancy)\n",
    "        \n",
    "    vacancies.append(job_vacs)"
   ]
  },
  {
   "cell_type": "code",
   "execution_count": 61,
   "metadata": {},
   "outputs": [
    {
     "data": {
      "text/plain": [
       "{'id': '98962317',\n",
       " 'premium': False,\n",
       " 'name': 'ПОВАР В СЕМЬЮ',\n",
       " 'department': None,\n",
       " 'has_test': False,\n",
       " 'response_letter_required': False,\n",
       " 'area': {'id': '1', 'name': 'Москва', 'url': 'https://api.hh.ru/areas/1'},\n",
       " 'salary': None,\n",
       " 'type': {'id': 'open', 'name': 'Открытая'},\n",
       " 'address': None,\n",
       " 'response_url': None,\n",
       " 'sort_point_distance': None,\n",
       " 'published_at': '2024-05-14T19:09:43+0300',\n",
       " 'created_at': '2024-05-14T19:09:43+0300',\n",
       " 'archived': False,\n",
       " 'apply_alternate_url': 'https://hh.ru/applicant/vacancy_response?vacancyId=98962317',\n",
       " 'insider_interview': None,\n",
       " 'url': 'https://api.hh.ru/vacancies/98962317?host=hh.ru',\n",
       " 'alternate_url': 'https://hh.ru/vacancy/98962317',\n",
       " 'relations': [],\n",
       " 'employer': {'id': '2862440',\n",
       "  'name': 'Центр международных Деловых проектов Интербизнеспроект',\n",
       "  'url': 'https://api.hh.ru/employers/2862440',\n",
       "  'alternate_url': 'https://hh.ru/employer/2862440',\n",
       "  'logo_urls': None,\n",
       "  'vacancies_url': 'https://api.hh.ru/vacancies?employer_id=2862440',\n",
       "  'accredited_it_employer': False,\n",
       "  'trusted': True},\n",
       " 'snippet': {'requirement': 'Опыт работы по данному направлению в семьях не менее 3 лет. Аккуратность, чистоплотность, трудолюбие.',\n",
       "  'responsibility': 'Приготовление пищи, обязательное знание диетической (щадящей), европейской кухни. Составление меню. Закупка продуктов, контроль качества продуктов. Поддержание чистоты и порядка на...'},\n",
       " 'contacts': None,\n",
       " 'schedule': {'id': 'fullDay', 'name': 'Полный день'},\n",
       " 'working_days': [],\n",
       " 'working_time_intervals': [],\n",
       " 'working_time_modes': [],\n",
       " 'accept_temporary': False,\n",
       " 'professional_roles': [{'id': '94', 'name': 'Повар, пекарь, кондитер'}],\n",
       " 'accept_incomplete_resumes': False,\n",
       " 'experience': {'id': 'between3And6', 'name': 'От 3 до 6 лет'},\n",
       " 'employment': {'id': 'part', 'name': 'Частичная занятость'},\n",
       " 'adv_response_url': None,\n",
       " 'is_adv_vacancy': False,\n",
       " 'adv_context': None}"
      ]
     },
     "execution_count": 61,
     "metadata": {},
     "output_type": "execute_result"
    }
   ],
   "source": [
    "vacancies[1][10]"
   ]
  },
  {
   "cell_type": "markdown",
   "metadata": {
    "id": "g0bdgyNWquuY"
   },
   "source": [
    "(1 балл) Посчитайте сколько всего найдено вакансий:"
   ]
  },
  {
   "cell_type": "code",
   "execution_count": 62,
   "metadata": {
    "id": "lxyXtIs6q5cc"
   },
   "outputs": [
    {
     "data": {
      "text/plain": [
       "2500"
      ]
     },
     "execution_count": 62,
     "metadata": {},
     "output_type": "execute_result"
    }
   ],
   "source": [
    "summ = 0\n",
    "for i in vacancies:\n",
    "    summ += len(i)\n",
    "summ"
   ]
  },
  {
   "cell_type": "markdown",
   "metadata": {
    "id": "wQeULnNyq5wk"
   },
   "source": [
    "(1 балл) Создайте структуру данных, которая будет хранить в себе имя компании и ее координаты (широта и долгота):"
   ]
  },
  {
   "cell_type": "code",
   "execution_count": 63,
   "metadata": {
    "id": "aR501yltVdLm"
   },
   "outputs": [],
   "source": [
    "class Company:\n",
    "    def __init__(self, info):\n",
    "        self.name_of_company = info['employer']['name']\n",
    "        self.coords_of_company = None\n",
    "        if info['address'] is not None:\n",
    "            self.coords_of_company = (info['address']['lat'], info['address']['lng'])\n",
    "            \n",
    "    def __repr__(self):\n",
    "        string = f'Name of company is: {self.name_of_company}'\n",
    "        string += '\\n'\n",
    "        string += f'Coords of company is: {self.coords_of_company}'\n",
    "        return string\n",
    "    def has_adress(self):\n",
    "        return self.coords_of_company is not None"
   ]
  },
  {
   "cell_type": "markdown",
   "metadata": {
    "id": "ccIi3wIvVkG0"
   },
   "source": [
    "(1 балл) Создайте экземпляр этой структуры данных для каждой компании, которая выставила вакансию:"
   ]
  },
  {
   "cell_type": "code",
   "execution_count": 64,
   "metadata": {
    "id": "tR6mYW7jtcCQ"
   },
   "outputs": [],
   "source": [
    "companies = []\n",
    "for job in vacancies:\n",
    "    for vacancy in job:\n",
    "        companies.append(Company(vacancy))"
   ]
  },
  {
   "cell_type": "code",
   "execution_count": 65,
   "metadata": {},
   "outputs": [
    {
     "data": {
      "text/plain": [
       "Name of company is: Уварова Елена\n",
       "Coords of company is: (None, None)"
      ]
     },
     "execution_count": 65,
     "metadata": {},
     "output_type": "execute_result"
    }
   ],
   "source": [
    "companies[220]"
   ]
  },
  {
   "cell_type": "markdown",
   "metadata": {
    "id": "SyBpNd0vtcNu"
   },
   "source": [
    "(1 балл) Найдите количество вакансий, у которых заданы координаты (значения данных может быть пустым):"
   ]
  },
  {
   "cell_type": "code",
   "execution_count": 66,
   "metadata": {
    "id": "lVgNCVALt2qJ"
   },
   "outputs": [
    {
     "data": {
      "text/plain": [
       "1599"
      ]
     },
     "execution_count": 66,
     "metadata": {},
     "output_type": "execute_result"
    }
   ],
   "source": [
    "summ = 0\n",
    "for cur in companies:\n",
    "    summ += cur.has_adress()\n",
    "summ"
   ]
  },
  {
   "cell_type": "markdown",
   "metadata": {
    "id": "aWNXrM-cu5Vi"
   },
   "source": [
    "(1 балл) Отберите вакансии, которые расположены в пределах МКАД (можно грубо):"
   ]
  },
  {
   "cell_type": "code",
   "execution_count": 67,
   "metadata": {},
   "outputs": [],
   "source": [
    "import cmath\n",
    "import math"
   ]
  },
  {
   "cell_type": "code",
   "execution_count": 68,
   "metadata": {
    "scrolled": true
   },
   "outputs": [],
   "source": [
    "from shapely import Polygon\n",
    "from shapely import Point"
   ]
  },
  {
   "cell_type": "code",
   "execution_count": 69,
   "metadata": {
    "id": "01g9wVEyyn-J"
   },
   "outputs": [],
   "source": [
    "#Координаты каждого километра МКАД в массиве\n",
    "mkad_km = [\n",
    "[1,37.842762,55.774558],\n",
    "[2,37.842789,55.76522],\n",
    "[3,37.842627,55.755723],\n",
    "[4,37.841828,55.747399],\n",
    "[5,37.841217,55.739103],\n",
    "[6,37.840175,55.730482],\n",
    "[7,37.83916,55.721939],\n",
    "[8,37.837121,55.712203],\n",
    "[9,37.83262,55.703048],\n",
    "[10,37.829512,55.694287],\n",
    "[11,37.831353,55.68529],\n",
    "[12,37.834605,55.675945],\n",
    "[13,37.837597,55.667752],\n",
    "[14,37.839348,55.658667],\n",
    "[15,37.833842,55.650053],\n",
    "[16,37.824787,55.643713],\n",
    "[17,37.814564,55.637347],\n",
    "[18,37.802473,55.62913],\n",
    "[19,37.794235,55.623758],\n",
    "[20,37.781928,55.617713],\n",
    "[21,37.771139,55.611755],\n",
    "[22,37.758725,55.604956],\n",
    "[23,37.747945,55.599677],\n",
    "[24,37.734785,55.594143],\n",
    "[25,37.723062,55.589234],\n",
    "[26,37.709425,55.583983],\n",
    "[27,37.696256,55.578834],\n",
    "[28,37.683167,55.574019],\n",
    "[29,37.668911,55.571999],\n",
    "[30,37.647765,55.573093],\n",
    "[31,37.633419,55.573928],\n",
    "[32,37.616719,55.574732],\n",
    "[33,37.60107,55.575816],\n",
    "[34,37.586536,55.5778],\n",
    "[35,37.571938,55.581271],\n",
    "[36,37.555732,55.585143],\n",
    "[37,37.545132,55.587509],\n",
    "[38,37.526366,55.5922],\n",
    "[39,37.516108,55.594728],\n",
    "[40,37.502274,55.60249],\n",
    "[41,37.49391,55.609685],\n",
    "[42,37.484846,55.617424],\n",
    "[43,37.474668,55.625801],\n",
    "[44,37.469925,55.630207],\n",
    "[45,37.456864,55.641041],\n",
    "[46,37.448195,55.648794],\n",
    "[47,37.441125,55.654675],\n",
    "[48,37.434424,55.660424],\n",
    "[49,37.42598,55.670701],\n",
    "[50,37.418712,55.67994],\n",
    "[51,37.414868,55.686873],\n",
    "[52,37.407528,55.695697],\n",
    "[53,37.397952,55.702805],\n",
    "[54,37.388969,55.709657],\n",
    "[55,37.383283,55.718273],\n",
    "[56,37.378369,55.728581],\n",
    "[57,37.374991,55.735201],\n",
    "[58,37.370248,55.744789],\n",
    "[59,37.369188,55.75435],\n",
    "[60,37.369053,55.762936],\n",
    "[61,37.369619,55.771444],\n",
    "[62,37.369853,55.779722],\n",
    "[63,37.372943,55.789542],\n",
    "[64,37.379824,55.79723],\n",
    "[65,37.386876,55.805796],\n",
    "[66,37.390397,55.814629],\n",
    "[67,37.393236,55.823606],\n",
    "[68,37.395275,55.83251],\n",
    "[69,37.394709,55.840376],\n",
    "[70,37.393056,55.850141],\n",
    "[71,37.397314,55.858801],\n",
    "[72,37.405588,55.867051],\n",
    "[73,37.416601,55.872703],\n",
    "[74,37.429429,55.877041],\n",
    "[75,37.443596,55.881091],\n",
    "[76,37.459065,55.882828],\n",
    "[77,37.473096,55.884625],\n",
    "[78,37.48861,55.888897],\n",
    "[79,37.5016,55.894232],\n",
    "[80,37.513206,55.899578],\n",
    "[81,37.527597,55.90526],\n",
    "[82,37.543443,55.907687],\n",
    "[83,37.559577,55.909388],\n",
    "[84,37.575531,55.910907],\n",
    "[85,37.590344,55.909257],\n",
    "[86,37.604637,55.905472],\n",
    "[87,37.619603,55.901637],\n",
    "[88,37.635961,55.898533],\n",
    "[89,37.647648,55.896973],\n",
    "[90,37.667878,55.895449],\n",
    "[91,37.681721,55.894868],\n",
    "[92,37.698807,55.893884],\n",
    "[93,37.712363,55.889094],\n",
    "[94,37.723636,55.883555],\n",
    "[95,37.735791,55.877501],\n",
    "[96,37.741261,55.874698],\n",
    "[97,37.764519,55.862464],\n",
    "[98,37.765992,55.861979],\n",
    "[99,37.788216,55.850257],\n",
    "[100,37.788522,55.850383],\n",
    "[101,37.800586,55.844167],\n",
    "[102,37.822819,55.832707],\n",
    "[103,37.829754,55.828789],\n",
    "[104,37.837148,55.821072],\n",
    "[105,37.838926,55.811599],\n",
    "[106,37.840004,55.802781],\n",
    "[107,37.840965,55.793991],\n",
    "[108,37.841576,55.785017]\n",
    "];"
   ]
  },
  {
   "cell_type": "code",
   "execution_count": 70,
   "metadata": {},
   "outputs": [],
   "source": [
    "mkad_polygon = Polygon([Point(point[2], point[1]) for point in mkad_km])\n",
    "mkad_convex = mkad_polygon.convex_hull\n",
    "\n",
    "def check_if_near_mkad(vacancy: Company):\n",
    "    if not vacancy.has_adress() or None in vacancy.coords_of_company:\n",
    "        return False\n",
    "    return mkad_convex.contains(Point(*vacancy.coords_of_company))"
   ]
  },
  {
   "cell_type": "code",
   "execution_count": 76,
   "metadata": {},
   "outputs": [
    {
     "data": {
      "text/plain": [
       "1333"
      ]
     },
     "execution_count": 76,
     "metadata": {},
     "output_type": "execute_result"
    }
   ],
   "source": [
    "vacancies_near_mkad = [vacancy for vacancy in companies if check_if_near_mkad(vacancy)]\n",
    "len(vacancies_near_mkad)"
   ]
  },
  {
   "cell_type": "code",
   "execution_count": 78,
   "metadata": {},
   "outputs": [
    {
     "data": {
      "text/plain": [
       "[Name of company is: Transparent Hiring\n",
       " Coords of company is: (51.230569, 6.787428)]"
      ]
     },
     "execution_count": 78,
     "metadata": {},
     "output_type": "execute_result"
    }
   ],
   "source": [
    "[curr_company for curr_company in companies if curr_company.has_adress() and None not in curr_company.coords_of_company and min(curr_company.coords_of_company) < 20]"
   ]
  },
  {
   "cell_type": "markdown",
   "metadata": {
    "id": "4LCb9IL_bgB_"
   },
   "source": [
    "(1 балл) Постройте график в координатах \"широта-долгота\" для отображения вакансий внутри МКАД (не забывайте прописать прозрачность, чтобы увидеть скопления):"
   ]
  },
  {
   "cell_type": "code",
   "execution_count": 81,
   "metadata": {},
   "outputs": [],
   "source": [
    "import geopandas\n",
    "from shapely import Point"
   ]
  },
  {
   "cell_type": "code",
   "execution_count": 82,
   "metadata": {
    "id": "6ogiXDvKcDV8"
   },
   "outputs": [
    {
     "data": {
      "text/plain": [
       "[Name of company is: Алабуга, ОЭЗ ППТ\n",
       " Coords of company is: (55.83428, 52.046124)]"
      ]
     },
     "execution_count": 82,
     "metadata": {},
     "output_type": "execute_result"
    }
   ],
   "source": [
    "[curr_company for curr_company in companies if curr_company.has_adress() and None not in curr_company.coords_of_company and min(curr_company.coords_of_company) > 50]"
   ]
  },
  {
   "cell_type": "code",
   "execution_count": 87,
   "metadata": {},
   "outputs": [],
   "source": [
    "in_mkad_series = pd.DataFrame([vacancy.coords_of_company[::-1] for vacancy in vacancies_near_mkad], columns=['x', 'y'])"
   ]
  },
  {
   "cell_type": "code",
   "execution_count": 88,
   "metadata": {},
   "outputs": [
    {
     "data": {
      "text/plain": [
       "<Axes: xlabel='x', ylabel='y'>"
      ]
     },
     "execution_count": 88,
     "metadata": {},
     "output_type": "execute_result"
    },
    {
     "data": {
      "image/png": "[encoded data removed]",
      "text/plain": [
       "<Figure size 640x480 with 1 Axes>"
      ]
     },
     "metadata": {},
     "output_type": "display_data"
    }
   ],
   "source": [
    "in_mkad_series.plot.scatter(x='x', y='y', alpha=0.3)"
   ]
  },
  {
   "cell_type": "markdown",
   "metadata": {
    "id": "YvS8b7eqt214"
   },
   "source": [
    "(1 балл) Нанесите все точки вакансий на карту (для этого вам поможет данная <a target=\"_blank\" href=\"https://plotly.com/python/mapbox-layers/\">документации</a>, не забудьте про прозрачность и центрирование по Москве):"
   ]
  },
  {
   "cell_type": "code",
   "execution_count": 102,
   "metadata": {
    "id": "1ceHEBdAys8o",
    "scrolled": true
   },
   "outputs": [],
   "source": [
    "geopandas.options.io_engine = \"pyogrio\"\n",
    "adm_moscow = geopandas.read_file(\"http://gis-lab.info/data/mos-adm/mo.geojson\")"
   ]
  },
  {
   "cell_type": "code",
   "execution_count": 105,
   "metadata": {},
   "outputs": [],
   "source": [
    "gp_in_mkad = geopandas.GeoSeries([Point(*vacancy.coords_of_company[::-1]) for vacancy in companies if vacancy.has_adress() and None not in vacancy.coords_of_company and 55 <= vacancy.coords_of_company[0] <= 56 and 37 <= vacancy.coords_of_company[1] <= 38])"
   ]
  },
  {
   "cell_type": "code",
   "execution_count": 107,
   "metadata": {},
   "outputs": [
    {
     "data": {
      "image/png": "[encoded data removed]",
      "text/plain": [
       "<Figure size 640x480 with 1 Axes>"
      ]
     },
     "metadata": {},
     "output_type": "display_data"
    }
   ],
   "source": [
    "fig, ax = plt.subplots()\n",
    "adm_moscow['geometry'].plot(ax=ax, color='white', edgecolor='black')\n",
    "gp_in_mkad.plot(ax=ax, marker='o', color='blue', alpha=0.2)\n",
    "plt.show()"
   ]
  },
  {
   "cell_type": "markdown",
   "metadata": {
    "id": "u-p3Llc361PN"
   },
   "source": [
    "(2 балла) **Сделайте выводы о проделанной работе:**"
   ]
  },
  {
   "cell_type": "markdown",
   "metadata": {
    "id": "G1c3d-qALobz"
   },
   "source": [
    ">*Подсказки для маленьких: Что вы можете сказать про районы Москвы? Что вы можете сказать про зарплаты? Что вы можете сказать про спрос?*"
   ]
  },
  {
   "cell_type": "markdown",
   "metadata": {
    "id": "gkPpbtBuVqwc"
   },
   "source": [
    "Ваши выводы здесь :)"
   ]
  },
  {
   "cell_type": "code",
   "execution_count": 109,
   "metadata": {},
   "outputs": [
    {
     "ename": "SyntaxError",
     "evalue": "invalid syntax (1530289965.py, line 1)",
     "output_type": "error",
     "traceback": [
      "\u001b[0;36m  Cell \u001b[0;32mIn[109], line 1\u001b[0;36m\u001b[0m\n\u001b[0;31m    Итак, большинство компаний находятся ближе к центру Москвы. Как мы видим на картинке сверху, количество вакансий всё больше стягивается\u001b[0m\n\u001b[0m                      ^\u001b[0m\n\u001b[0;31mSyntaxError\u001b[0m\u001b[0;31m:\u001b[0m invalid syntax\n"
     ]
    }
   ],
   "source": [
    "Итак, большинство компаний находятся ближе к центру Москвы. Как мы видим на картинке сверху, количество вакансий всё больше стягивается\n",
    "к центру Москвы, так как зарплаты в центре возрастают, приближаясь к центру Москвы. Средние зарплаты в Москве у выбранных профессий \n",
    "70-80 к рублей. Спрос опять же растёт, в зависимости от места. Ближе к центру - выше спрос и наоборот."
   ]
  },
  {
   "cell_type": "markdown",
   "metadata": {
    "id": "wVcCTF_Zz58q"
   },
   "source": [
    "## Задание 2. Анализ данных - 20 баллов"
   ]
  },
  {
   "cell_type": "markdown",
   "metadata": {
    "id": "lii5YFuucxR2"
   },
   "source": [
    "Вам предстоит проанализировать датасет, содержащий информацию об бриллианта, их стоимости и остальных характеристиках."
   ]
  },
  {
   "cell_type": "markdown",
   "metadata": {
    "id": "CvEO3-NI0Gez"
   },
   "source": [
    "\n",
    "\n",
    "Поясним значения хранящиеся в колонках:\n",
    "*   `cut` - огранка бриллианта (относится к одной из примерно 10 наиболее распространенных)\n",
    "*   `color` - цвет бриллианта, прозрачные бриллианты имеют градацию `D-Z`, \"более высокие\" буквы - более желтоватые, но часто имеют лучшие значения, поскольку цвет трудно определить один раз в кольце\n",
    "*   `clarity` - чистота бриллианта, наличие включений (внутренних дефектов), чем меньше и мельче, тем лучше\n",
    "*   `carat_weight` - масса бриллианта (слабо связана с размером бриллианта, т.к. огранка и качество огранки, как правило, играют большую роль)\n",
    "*   `cut_quality` - качество ограники по системе оценки GIA Cut\n",
    "*   `lab` - лаборатория оценивания\n",
    "*   `meas_length` - длина бриллианта\n",
    "*   `meas_width` - ширина бриллианта\n",
    "*   `meas_depth` - глубина бриллианта\n",
    "*   `total_sales_price` - цена бриллианта в долларах.\n",
    "*    **и прочие колонки**"
   ]
  },
  {
   "cell_type": "markdown",
   "metadata": {
    "id": "7mK1QntN6ZXh"
   },
   "source": [
    "Скачаем данные:"
   ]
  },
  {
   "cell_type": "code",
   "execution_count": 27,
   "metadata": {
    "colab": {
     "base_uri": "https://localhost:8080/"
    },
    "id": "LnCK3gCoebjw",
    "outputId": "9f5f22ac-c1e8-436d-8157-ff29ab3d8ada"
   },
   "outputs": [
    {
     "name": "stdout",
     "output_type": "stream",
     "text": [
      "Downloading...\n",
      "From: https://drive.google.com/uc?id=10OJ30qlkE-7zK4JuVTDMY3U4nRB4tu_8\n",
      "To: /home/dima/python-project/laboratory/diamonds.csv\n",
      "100%|██████████████████████████████████████| 35.4M/35.4M [00:02<00:00, 17.5MB/s]\n"
     ]
    }
   ],
   "source": [
    "!gdown 10OJ30qlkE-7zK4JuVTDMY3U4nRB4tu_8"
   ]
  },
  {
   "cell_type": "markdown",
   "metadata": {
    "id": "wfSqVYoIfi3-"
   },
   "source": [
    "Создадим DataFrame:"
   ]
  },
  {
   "cell_type": "code",
   "execution_count": 28,
   "metadata": {
    "colab": {
     "base_uri": "https://localhost:8080/",
     "height": 548
    },
    "id": "cDgRJzRp6Ow4",
    "outputId": "5fb4495b-3a51-4b04-bff2-1b95c84b0ea5"
   },
   "outputs": [
    {
     "data": {
      "text/html": [
       "<div>\n",
       "<style scoped>\n",
       "    .dataframe tbody tr th:only-of-type {\n",
       "        vertical-align: middle;\n",
       "    }\n",
       "\n",
       "    .dataframe tbody tr th {\n",
       "        vertical-align: top;\n",
       "    }\n",
       "\n",
       "    .dataframe thead th {\n",
       "        text-align: right;\n",
       "    }\n",
       "</style>\n",
       "<table border=\"1\" class=\"dataframe\">\n",
       "  <thead>\n",
       "    <tr style=\"text-align: right;\">\n",
       "      <th></th>\n",
       "      <th>Unnamed: 0</th>\n",
       "      <th>cut</th>\n",
       "      <th>color</th>\n",
       "      <th>clarity</th>\n",
       "      <th>carat_weight</th>\n",
       "      <th>cut_quality</th>\n",
       "      <th>lab</th>\n",
       "      <th>symmetry</th>\n",
       "      <th>polish</th>\n",
       "      <th>eye_clean</th>\n",
       "      <th>...</th>\n",
       "      <th>meas_depth</th>\n",
       "      <th>girdle_min</th>\n",
       "      <th>girdle_max</th>\n",
       "      <th>fluor_color</th>\n",
       "      <th>fluor_intensity</th>\n",
       "      <th>fancy_color_dominant_color</th>\n",
       "      <th>fancy_color_secondary_color</th>\n",
       "      <th>fancy_color_overtone</th>\n",
       "      <th>fancy_color_intensity</th>\n",
       "      <th>total_sales_price</th>\n",
       "    </tr>\n",
       "  </thead>\n",
       "  <tbody>\n",
       "    <tr>\n",
       "      <th>0</th>\n",
       "      <td>0</td>\n",
       "      <td>Round</td>\n",
       "      <td>E</td>\n",
       "      <td>VVS2</td>\n",
       "      <td>0.09</td>\n",
       "      <td>Excellent</td>\n",
       "      <td>IGI</td>\n",
       "      <td>Very Good</td>\n",
       "      <td>Very Good</td>\n",
       "      <td>unknown</td>\n",
       "      <td>...</td>\n",
       "      <td>1.79</td>\n",
       "      <td>M</td>\n",
       "      <td>M</td>\n",
       "      <td>unknown</td>\n",
       "      <td>NaN</td>\n",
       "      <td>unknown</td>\n",
       "      <td>unknown</td>\n",
       "      <td>unknown</td>\n",
       "      <td>unknown</td>\n",
       "      <td>200</td>\n",
       "    </tr>\n",
       "    <tr>\n",
       "      <th>1</th>\n",
       "      <td>1</td>\n",
       "      <td>Round</td>\n",
       "      <td>E</td>\n",
       "      <td>VVS2</td>\n",
       "      <td>0.09</td>\n",
       "      <td>Very Good</td>\n",
       "      <td>IGI</td>\n",
       "      <td>Very Good</td>\n",
       "      <td>Very Good</td>\n",
       "      <td>unknown</td>\n",
       "      <td>...</td>\n",
       "      <td>1.78</td>\n",
       "      <td>STK</td>\n",
       "      <td>STK</td>\n",
       "      <td>unknown</td>\n",
       "      <td>NaN</td>\n",
       "      <td>unknown</td>\n",
       "      <td>unknown</td>\n",
       "      <td>unknown</td>\n",
       "      <td>unknown</td>\n",
       "      <td>200</td>\n",
       "    </tr>\n",
       "    <tr>\n",
       "      <th>2</th>\n",
       "      <td>2</td>\n",
       "      <td>Round</td>\n",
       "      <td>E</td>\n",
       "      <td>VVS2</td>\n",
       "      <td>0.09</td>\n",
       "      <td>Excellent</td>\n",
       "      <td>IGI</td>\n",
       "      <td>Very Good</td>\n",
       "      <td>Very Good</td>\n",
       "      <td>unknown</td>\n",
       "      <td>...</td>\n",
       "      <td>1.77</td>\n",
       "      <td>TN</td>\n",
       "      <td>M</td>\n",
       "      <td>unknown</td>\n",
       "      <td>NaN</td>\n",
       "      <td>unknown</td>\n",
       "      <td>unknown</td>\n",
       "      <td>unknown</td>\n",
       "      <td>unknown</td>\n",
       "      <td>200</td>\n",
       "    </tr>\n",
       "    <tr>\n",
       "      <th>3</th>\n",
       "      <td>3</td>\n",
       "      <td>Round</td>\n",
       "      <td>E</td>\n",
       "      <td>VVS2</td>\n",
       "      <td>0.09</td>\n",
       "      <td>Excellent</td>\n",
       "      <td>IGI</td>\n",
       "      <td>Very Good</td>\n",
       "      <td>Very Good</td>\n",
       "      <td>unknown</td>\n",
       "      <td>...</td>\n",
       "      <td>1.78</td>\n",
       "      <td>M</td>\n",
       "      <td>STK</td>\n",
       "      <td>unknown</td>\n",
       "      <td>NaN</td>\n",
       "      <td>unknown</td>\n",
       "      <td>unknown</td>\n",
       "      <td>unknown</td>\n",
       "      <td>unknown</td>\n",
       "      <td>200</td>\n",
       "    </tr>\n",
       "    <tr>\n",
       "      <th>4</th>\n",
       "      <td>4</td>\n",
       "      <td>Round</td>\n",
       "      <td>E</td>\n",
       "      <td>VVS2</td>\n",
       "      <td>0.09</td>\n",
       "      <td>Very Good</td>\n",
       "      <td>IGI</td>\n",
       "      <td>Very Good</td>\n",
       "      <td>Excellent</td>\n",
       "      <td>unknown</td>\n",
       "      <td>...</td>\n",
       "      <td>1.82</td>\n",
       "      <td>STK</td>\n",
       "      <td>STK</td>\n",
       "      <td>unknown</td>\n",
       "      <td>NaN</td>\n",
       "      <td>unknown</td>\n",
       "      <td>unknown</td>\n",
       "      <td>unknown</td>\n",
       "      <td>unknown</td>\n",
       "      <td>200</td>\n",
       "    </tr>\n",
       "    <tr>\n",
       "      <th>...</th>\n",
       "      <td>...</td>\n",
       "      <td>...</td>\n",
       "      <td>...</td>\n",
       "      <td>...</td>\n",
       "      <td>...</td>\n",
       "      <td>...</td>\n",
       "      <td>...</td>\n",
       "      <td>...</td>\n",
       "      <td>...</td>\n",
       "      <td>...</td>\n",
       "      <td>...</td>\n",
       "      <td>...</td>\n",
       "      <td>...</td>\n",
       "      <td>...</td>\n",
       "      <td>...</td>\n",
       "      <td>...</td>\n",
       "      <td>...</td>\n",
       "      <td>...</td>\n",
       "      <td>...</td>\n",
       "      <td>...</td>\n",
       "      <td>...</td>\n",
       "    </tr>\n",
       "    <tr>\n",
       "      <th>219698</th>\n",
       "      <td>219699</td>\n",
       "      <td>Round</td>\n",
       "      <td>E</td>\n",
       "      <td>VS1</td>\n",
       "      <td>10.65</td>\n",
       "      <td>Excellent</td>\n",
       "      <td>GIA</td>\n",
       "      <td>Excellent</td>\n",
       "      <td>Excellent</td>\n",
       "      <td>unknown</td>\n",
       "      <td>...</td>\n",
       "      <td>8.66</td>\n",
       "      <td>M</td>\n",
       "      <td>STK</td>\n",
       "      <td>unknown</td>\n",
       "      <td>NaN</td>\n",
       "      <td>unknown</td>\n",
       "      <td>unknown</td>\n",
       "      <td>unknown</td>\n",
       "      <td>unknown</td>\n",
       "      <td>1210692</td>\n",
       "    </tr>\n",
       "    <tr>\n",
       "      <th>219699</th>\n",
       "      <td>219700</td>\n",
       "      <td>Radiant</td>\n",
       "      <td>unknown</td>\n",
       "      <td>VS2</td>\n",
       "      <td>5.17</td>\n",
       "      <td>unknown</td>\n",
       "      <td>GIA</td>\n",
       "      <td>Very Good</td>\n",
       "      <td>Very Good</td>\n",
       "      <td>unknown</td>\n",
       "      <td>...</td>\n",
       "      <td>5.71</td>\n",
       "      <td>TK</td>\n",
       "      <td>XTK</td>\n",
       "      <td>unknown</td>\n",
       "      <td>NaN</td>\n",
       "      <td>Green</td>\n",
       "      <td>unknown</td>\n",
       "      <td>NaN</td>\n",
       "      <td>Fancy Light</td>\n",
       "      <td>1292500</td>\n",
       "    </tr>\n",
       "    <tr>\n",
       "      <th>219700</th>\n",
       "      <td>219701</td>\n",
       "      <td>Round</td>\n",
       "      <td>E</td>\n",
       "      <td>VS1</td>\n",
       "      <td>18.07</td>\n",
       "      <td>Excellent</td>\n",
       "      <td>GIA</td>\n",
       "      <td>Excellent</td>\n",
       "      <td>Excellent</td>\n",
       "      <td>unknown</td>\n",
       "      <td>...</td>\n",
       "      <td>10.20</td>\n",
       "      <td>TN</td>\n",
       "      <td>M</td>\n",
       "      <td>unknown</td>\n",
       "      <td>NaN</td>\n",
       "      <td>unknown</td>\n",
       "      <td>unknown</td>\n",
       "      <td>unknown</td>\n",
       "      <td>unknown</td>\n",
       "      <td>1315496</td>\n",
       "    </tr>\n",
       "    <tr>\n",
       "      <th>219701</th>\n",
       "      <td>219702</td>\n",
       "      <td>Princess</td>\n",
       "      <td>unknown</td>\n",
       "      <td>SI2</td>\n",
       "      <td>0.90</td>\n",
       "      <td>unknown</td>\n",
       "      <td>GIA</td>\n",
       "      <td>Good</td>\n",
       "      <td>Good</td>\n",
       "      <td>unknown</td>\n",
       "      <td>...</td>\n",
       "      <td>3.47</td>\n",
       "      <td>XTN</td>\n",
       "      <td>VTK</td>\n",
       "      <td>unknown</td>\n",
       "      <td>Faint</td>\n",
       "      <td>Red</td>\n",
       "      <td>unknown</td>\n",
       "      <td>unknown</td>\n",
       "      <td>Fancy</td>\n",
       "      <td>1350000</td>\n",
       "    </tr>\n",
       "    <tr>\n",
       "      <th>219702</th>\n",
       "      <td>219703</td>\n",
       "      <td>Pear</td>\n",
       "      <td>unknown</td>\n",
       "      <td>VVS2</td>\n",
       "      <td>10.03</td>\n",
       "      <td>unknown</td>\n",
       "      <td>GIA</td>\n",
       "      <td>Very Good</td>\n",
       "      <td>Excellent</td>\n",
       "      <td>unknown</td>\n",
       "      <td>...</td>\n",
       "      <td>7.39</td>\n",
       "      <td>unknown</td>\n",
       "      <td>unknown</td>\n",
       "      <td>unknown</td>\n",
       "      <td>NaN</td>\n",
       "      <td>Yellow</td>\n",
       "      <td>unknown</td>\n",
       "      <td>unknown</td>\n",
       "      <td>Fancy Vivid</td>\n",
       "      <td>1449881</td>\n",
       "    </tr>\n",
       "  </tbody>\n",
       "</table>\n",
       "<p>219703 rows × 26 columns</p>\n",
       "</div>"
      ],
      "text/plain": [
       "        Unnamed: 0       cut    color clarity  carat_weight cut_quality  lab  \\\n",
       "0                0     Round        E    VVS2          0.09   Excellent  IGI   \n",
       "1                1     Round        E    VVS2          0.09   Very Good  IGI   \n",
       "2                2     Round        E    VVS2          0.09   Excellent  IGI   \n",
       "3                3     Round        E    VVS2          0.09   Excellent  IGI   \n",
       "4                4     Round        E    VVS2          0.09   Very Good  IGI   \n",
       "...            ...       ...      ...     ...           ...         ...  ...   \n",
       "219698      219699     Round        E     VS1         10.65   Excellent  GIA   \n",
       "219699      219700   Radiant  unknown     VS2          5.17     unknown  GIA   \n",
       "219700      219701     Round        E     VS1         18.07   Excellent  GIA   \n",
       "219701      219702  Princess  unknown     SI2          0.90     unknown  GIA   \n",
       "219702      219703      Pear  unknown    VVS2         10.03     unknown  GIA   \n",
       "\n",
       "         symmetry     polish eye_clean  ... meas_depth girdle_min  girdle_max  \\\n",
       "0       Very Good  Very Good   unknown  ...       1.79          M           M   \n",
       "1       Very Good  Very Good   unknown  ...       1.78        STK         STK   \n",
       "2       Very Good  Very Good   unknown  ...       1.77         TN           M   \n",
       "3       Very Good  Very Good   unknown  ...       1.78          M         STK   \n",
       "4       Very Good  Excellent   unknown  ...       1.82        STK         STK   \n",
       "...           ...        ...       ...  ...        ...        ...         ...   \n",
       "219698  Excellent  Excellent   unknown  ...       8.66          M         STK   \n",
       "219699  Very Good  Very Good   unknown  ...       5.71         TK         XTK   \n",
       "219700  Excellent  Excellent   unknown  ...      10.20         TN           M   \n",
       "219701       Good       Good   unknown  ...       3.47        XTN         VTK   \n",
       "219702  Very Good  Excellent   unknown  ...       7.39    unknown     unknown   \n",
       "\n",
       "        fluor_color  fluor_intensity  fancy_color_dominant_color  \\\n",
       "0           unknown              NaN                     unknown   \n",
       "1           unknown              NaN                     unknown   \n",
       "2           unknown              NaN                     unknown   \n",
       "3           unknown              NaN                     unknown   \n",
       "4           unknown              NaN                     unknown   \n",
       "...             ...              ...                         ...   \n",
       "219698      unknown              NaN                     unknown   \n",
       "219699      unknown              NaN                       Green   \n",
       "219700      unknown              NaN                     unknown   \n",
       "219701      unknown            Faint                         Red   \n",
       "219702      unknown              NaN                      Yellow   \n",
       "\n",
       "        fancy_color_secondary_color fancy_color_overtone  \\\n",
       "0                           unknown              unknown   \n",
       "1                           unknown              unknown   \n",
       "2                           unknown              unknown   \n",
       "3                           unknown              unknown   \n",
       "4                           unknown              unknown   \n",
       "...                             ...                  ...   \n",
       "219698                      unknown              unknown   \n",
       "219699                      unknown                  NaN   \n",
       "219700                      unknown              unknown   \n",
       "219701                      unknown              unknown   \n",
       "219702                      unknown              unknown   \n",
       "\n",
       "       fancy_color_intensity total_sales_price  \n",
       "0                    unknown               200  \n",
       "1                    unknown               200  \n",
       "2                    unknown               200  \n",
       "3                    unknown               200  \n",
       "4                    unknown               200  \n",
       "...                      ...               ...  \n",
       "219698               unknown           1210692  \n",
       "219699           Fancy Light           1292500  \n",
       "219700               unknown           1315496  \n",
       "219701                 Fancy           1350000  \n",
       "219702           Fancy Vivid           1449881  \n",
       "\n",
       "[219703 rows x 26 columns]"
      ]
     },
     "execution_count": 28,
     "metadata": {},
     "output_type": "execute_result"
    }
   ],
   "source": [
    "import pandas as pd\n",
    "\n",
    "diamonds = pd.read_csv(\"diamonds.csv\")\n",
    "diamonds"
   ]
  },
  {
   "cell_type": "markdown",
   "metadata": {
    "id": "vlw_3lXG6bhv"
   },
   "source": [
    "(0.5 балла) Выведете первые 5 строк датасета:"
   ]
  },
  {
   "cell_type": "code",
   "execution_count": 29,
   "metadata": {
    "id": "gHA-AnSE6fth"
   },
   "outputs": [
    {
     "data": {
      "text/html": [
       "<div>\n",
       "<style scoped>\n",
       "    .dataframe tbody tr th:only-of-type {\n",
       "        vertical-align: middle;\n",
       "    }\n",
       "\n",
       "    .dataframe tbody tr th {\n",
       "        vertical-align: top;\n",
       "    }\n",
       "\n",
       "    .dataframe thead th {\n",
       "        text-align: right;\n",
       "    }\n",
       "</style>\n",
       "<table border=\"1\" class=\"dataframe\">\n",
       "  <thead>\n",
       "    <tr style=\"text-align: right;\">\n",
       "      <th></th>\n",
       "      <th>Unnamed: 0</th>\n",
       "      <th>cut</th>\n",
       "      <th>color</th>\n",
       "      <th>clarity</th>\n",
       "      <th>carat_weight</th>\n",
       "      <th>cut_quality</th>\n",
       "      <th>lab</th>\n",
       "      <th>symmetry</th>\n",
       "      <th>polish</th>\n",
       "      <th>eye_clean</th>\n",
       "      <th>...</th>\n",
       "      <th>meas_depth</th>\n",
       "      <th>girdle_min</th>\n",
       "      <th>girdle_max</th>\n",
       "      <th>fluor_color</th>\n",
       "      <th>fluor_intensity</th>\n",
       "      <th>fancy_color_dominant_color</th>\n",
       "      <th>fancy_color_secondary_color</th>\n",
       "      <th>fancy_color_overtone</th>\n",
       "      <th>fancy_color_intensity</th>\n",
       "      <th>total_sales_price</th>\n",
       "    </tr>\n",
       "  </thead>\n",
       "  <tbody>\n",
       "    <tr>\n",
       "      <th>0</th>\n",
       "      <td>0</td>\n",
       "      <td>Round</td>\n",
       "      <td>E</td>\n",
       "      <td>VVS2</td>\n",
       "      <td>0.09</td>\n",
       "      <td>Excellent</td>\n",
       "      <td>IGI</td>\n",
       "      <td>Very Good</td>\n",
       "      <td>Very Good</td>\n",
       "      <td>unknown</td>\n",
       "      <td>...</td>\n",
       "      <td>1.79</td>\n",
       "      <td>M</td>\n",
       "      <td>M</td>\n",
       "      <td>unknown</td>\n",
       "      <td>NaN</td>\n",
       "      <td>unknown</td>\n",
       "      <td>unknown</td>\n",
       "      <td>unknown</td>\n",
       "      <td>unknown</td>\n",
       "      <td>200</td>\n",
       "    </tr>\n",
       "    <tr>\n",
       "      <th>1</th>\n",
       "      <td>1</td>\n",
       "      <td>Round</td>\n",
       "      <td>E</td>\n",
       "      <td>VVS2</td>\n",
       "      <td>0.09</td>\n",
       "      <td>Very Good</td>\n",
       "      <td>IGI</td>\n",
       "      <td>Very Good</td>\n",
       "      <td>Very Good</td>\n",
       "      <td>unknown</td>\n",
       "      <td>...</td>\n",
       "      <td>1.78</td>\n",
       "      <td>STK</td>\n",
       "      <td>STK</td>\n",
       "      <td>unknown</td>\n",
       "      <td>NaN</td>\n",
       "      <td>unknown</td>\n",
       "      <td>unknown</td>\n",
       "      <td>unknown</td>\n",
       "      <td>unknown</td>\n",
       "      <td>200</td>\n",
       "    </tr>\n",
       "    <tr>\n",
       "      <th>2</th>\n",
       "      <td>2</td>\n",
       "      <td>Round</td>\n",
       "      <td>E</td>\n",
       "      <td>VVS2</td>\n",
       "      <td>0.09</td>\n",
       "      <td>Excellent</td>\n",
       "      <td>IGI</td>\n",
       "      <td>Very Good</td>\n",
       "      <td>Very Good</td>\n",
       "      <td>unknown</td>\n",
       "      <td>...</td>\n",
       "      <td>1.77</td>\n",
       "      <td>TN</td>\n",
       "      <td>M</td>\n",
       "      <td>unknown</td>\n",
       "      <td>NaN</td>\n",
       "      <td>unknown</td>\n",
       "      <td>unknown</td>\n",
       "      <td>unknown</td>\n",
       "      <td>unknown</td>\n",
       "      <td>200</td>\n",
       "    </tr>\n",
       "    <tr>\n",
       "      <th>3</th>\n",
       "      <td>3</td>\n",
       "      <td>Round</td>\n",
       "      <td>E</td>\n",
       "      <td>VVS2</td>\n",
       "      <td>0.09</td>\n",
       "      <td>Excellent</td>\n",
       "      <td>IGI</td>\n",
       "      <td>Very Good</td>\n",
       "      <td>Very Good</td>\n",
       "      <td>unknown</td>\n",
       "      <td>...</td>\n",
       "      <td>1.78</td>\n",
       "      <td>M</td>\n",
       "      <td>STK</td>\n",
       "      <td>unknown</td>\n",
       "      <td>NaN</td>\n",
       "      <td>unknown</td>\n",
       "      <td>unknown</td>\n",
       "      <td>unknown</td>\n",
       "      <td>unknown</td>\n",
       "      <td>200</td>\n",
       "    </tr>\n",
       "    <tr>\n",
       "      <th>4</th>\n",
       "      <td>4</td>\n",
       "      <td>Round</td>\n",
       "      <td>E</td>\n",
       "      <td>VVS2</td>\n",
       "      <td>0.09</td>\n",
       "      <td>Very Good</td>\n",
       "      <td>IGI</td>\n",
       "      <td>Very Good</td>\n",
       "      <td>Excellent</td>\n",
       "      <td>unknown</td>\n",
       "      <td>...</td>\n",
       "      <td>1.82</td>\n",
       "      <td>STK</td>\n",
       "      <td>STK</td>\n",
       "      <td>unknown</td>\n",
       "      <td>NaN</td>\n",
       "      <td>unknown</td>\n",
       "      <td>unknown</td>\n",
       "      <td>unknown</td>\n",
       "      <td>unknown</td>\n",
       "      <td>200</td>\n",
       "    </tr>\n",
       "  </tbody>\n",
       "</table>\n",
       "<p>5 rows × 26 columns</p>\n",
       "</div>"
      ],
      "text/plain": [
       "   Unnamed: 0    cut color clarity  carat_weight cut_quality  lab   symmetry  \\\n",
       "0           0  Round     E    VVS2          0.09   Excellent  IGI  Very Good   \n",
       "1           1  Round     E    VVS2          0.09   Very Good  IGI  Very Good   \n",
       "2           2  Round     E    VVS2          0.09   Excellent  IGI  Very Good   \n",
       "3           3  Round     E    VVS2          0.09   Excellent  IGI  Very Good   \n",
       "4           4  Round     E    VVS2          0.09   Very Good  IGI  Very Good   \n",
       "\n",
       "      polish eye_clean  ... meas_depth girdle_min  girdle_max  fluor_color  \\\n",
       "0  Very Good   unknown  ...       1.79          M           M      unknown   \n",
       "1  Very Good   unknown  ...       1.78        STK         STK      unknown   \n",
       "2  Very Good   unknown  ...       1.77         TN           M      unknown   \n",
       "3  Very Good   unknown  ...       1.78          M         STK      unknown   \n",
       "4  Excellent   unknown  ...       1.82        STK         STK      unknown   \n",
       "\n",
       "   fluor_intensity  fancy_color_dominant_color  fancy_color_secondary_color  \\\n",
       "0              NaN                     unknown                      unknown   \n",
       "1              NaN                     unknown                      unknown   \n",
       "2              NaN                     unknown                      unknown   \n",
       "3              NaN                     unknown                      unknown   \n",
       "4              NaN                     unknown                      unknown   \n",
       "\n",
       "  fancy_color_overtone fancy_color_intensity total_sales_price  \n",
       "0              unknown               unknown               200  \n",
       "1              unknown               unknown               200  \n",
       "2              unknown               unknown               200  \n",
       "3              unknown               unknown               200  \n",
       "4              unknown               unknown               200  \n",
       "\n",
       "[5 rows x 26 columns]"
      ]
     },
     "execution_count": 29,
     "metadata": {},
     "output_type": "execute_result"
    }
   ],
   "source": [
    "diamonds.head(5)"
   ]
  },
  {
   "cell_type": "markdown",
   "metadata": {
    "id": "gat7bnPQ6fCE"
   },
   "source": [
    "(0.5 балла) Найдите количество бриллиантов всего в данном датасете:"
   ]
  },
  {
   "cell_type": "code",
   "execution_count": 30,
   "metadata": {
    "id": "-9x6z3-J7C-v"
   },
   "outputs": [
    {
     "data": {
      "text/plain": [
       "219703"
      ]
     },
     "execution_count": 30,
     "metadata": {},
     "output_type": "execute_result"
    }
   ],
   "source": [
    "diamonds.shape[0]"
   ]
  },
  {
   "cell_type": "markdown",
   "metadata": {
    "id": "fYQuIdtL7DFp"
   },
   "source": [
    "(0.5 балла) Выведите максимальную и минимальную цену бриллианта в формате `номер - цена`:"
   ]
  },
  {
   "cell_type": "code",
   "execution_count": 32,
   "metadata": {
    "id": "D_7sjzjP7SEj"
   },
   "outputs": [
    {
     "name": "stdout",
     "output_type": "stream",
     "text": [
      "0 - 200\n",
      "219702 - 1449881\n"
     ]
    }
   ],
   "source": [
    "price = diamonds['total_sales_price']\n",
    "print(f'{price.idxmin()} - {price.min()}')\n",
    "print(f'{price.idxmax()} - {price.max()}')"
   ]
  },
  {
   "cell_type": "markdown",
   "metadata": {
    "id": "E2mf4IIO7SOg"
   },
   "source": [
    "(1 балл) Посчитайте количество пропусков (пропуском считается значение `unknown` или `None`):"
   ]
  },
  {
   "cell_type": "code",
   "execution_count": 33,
   "metadata": {
    "id": "BuJZ0UoN7qAU"
   },
   "outputs": [
    {
     "data": {
      "text/plain": [
       "1746027"
      ]
     },
     "execution_count": 33,
     "metadata": {},
     "output_type": "execute_result"
    }
   ],
   "source": [
    "find_occurs = lambda x: sum([diamonds[column].value_counts().get(x, 0) for column in diamonds.columns])\n",
    "res = find_occurs('None') + find_occurs('unknown')\n",
    "res"
   ]
  },
  {
   "cell_type": "markdown",
   "metadata": {
    "id": "d5LWUc_fh0vb"
   },
   "source": [
    "(1 балл) Найдите в каких столбцах присутствуют пропуски:"
   ]
  },
  {
   "cell_type": "code",
   "execution_count": 34,
   "metadata": {
    "id": "IsU49Fouh5vy"
   },
   "outputs": [
    {
     "data": {
      "text/plain": [
       "['fluor_intensity', 'fancy_color_overtone']"
      ]
     },
     "execution_count": 34,
     "metadata": {},
     "output_type": "execute_result"
    }
   ],
   "source": [
    "[column for column in diamonds.columns if diamonds[column].isnull().sum() > 0]"
   ]
  },
  {
   "cell_type": "markdown",
   "metadata": {
    "id": "UznNZpJ47qGX"
   },
   "source": [
    "В нашем датасете присутствуют колонки, которые начинаются с `fancy_color_` или `fluor_`. Большинство значений в этих колонках - `unknown` или `None`, поэтому мы считаем их малоинформативными."
   ]
  },
  {
   "cell_type": "markdown",
   "metadata": {
    "id": "Rkk6Hr2Ui87X"
   },
   "source": [
    "Ваша задача:"
   ]
  },
  {
   "cell_type": "markdown",
   "metadata": {
    "id": "YYBDAgSSi-JU"
   },
   "source": [
    "1. (0.5 балла) найти количество таких колонок, которые начинаются с `fancy_color_` или `fluor_`:"
   ]
  },
  {
   "cell_type": "code",
   "execution_count": 35,
   "metadata": {
    "id": "nbTUkk4T8-wO"
   },
   "outputs": [
    {
     "data": {
      "text/plain": [
       "6"
      ]
     },
     "execution_count": 35,
     "metadata": {},
     "output_type": "execute_result"
    }
   ],
   "source": [
    "columns = [column for column in diamonds.columns if column.startswith('fluor_') or column.startswith('fancy_color_')]\n",
    "len(columns)"
   ]
  },
  {
   "cell_type": "markdown",
   "metadata": {
    "id": "imop6nNujA6z"
   },
   "source": [
    "2. (0.5 балла) найти количество информативных (не `None` или `unknown`) значений в этих колонках:"
   ]
  },
  {
   "cell_type": "code",
   "execution_count": null,
   "metadata": {
    "id": "jtJcBwAVjPHU"
   },
   "outputs": [],
   "source": [
    "# your code here"
   ]
  },
  {
   "cell_type": "markdown",
   "metadata": {
    "id": "wFbuTnkbjPeq"
   },
   "source": [
    "3. (0.5 балла) удалить данные колонки из датасета, сохранив изменения (в дальнейшем работаем измененным датасетом):"
   ]
  },
  {
   "cell_type": "code",
   "execution_count": null,
   "metadata": {
    "id": "qSZ5cmKWjutz"
   },
   "outputs": [],
   "source": [
    "# your code here"
   ]
  },
  {
   "cell_type": "markdown",
   "metadata": {
    "id": "JID3q4vr8-2h"
   },
   "source": [
    "(1 балл) Проделайте тоже самое для колонок, начинающихся с `culet_`:"
   ]
  },
  {
   "cell_type": "code",
   "execution_count": null,
   "metadata": {
    "id": "Wfsvzyad-T6P"
   },
   "outputs": [],
   "source": [
    "# your code here"
   ]
  },
  {
   "cell_type": "markdown",
   "metadata": {
    "id": "7_qYv5Xm-UCz"
   },
   "source": [
    "(1 балл) Посчитайте сколько бы стоил (в тысячах долларов) сейф, в котором хранились бы все бриллианты из датасета:"
   ]
  },
  {
   "cell_type": "code",
   "execution_count": null,
   "metadata": {
    "id": "g2wVyz5U-cx7"
   },
   "outputs": [],
   "source": [
    "# your code here"
   ]
  },
  {
   "cell_type": "markdown",
   "metadata": {
    "id": "GVwspHrUkRFv"
   },
   "source": [
    "Немного необоснованных манипуляций."
   ]
  },
  {
   "cell_type": "markdown",
   "metadata": {
    "id": "0j5Yr0mFxxfu"
   },
   "source": [
    "(1 балл) Выберите из датасета строки с четными индексами и выведете значения (не меняя нумерацию индексов):"
   ]
  },
  {
   "cell_type": "code",
   "execution_count": 36,
   "metadata": {
    "id": "dW2GOROfx6yd"
   },
   "outputs": [
    {
     "data": {
      "text/html": [
       "<div>\n",
       "<style scoped>\n",
       "    .dataframe tbody tr th:only-of-type {\n",
       "        vertical-align: middle;\n",
       "    }\n",
       "\n",
       "    .dataframe tbody tr th {\n",
       "        vertical-align: top;\n",
       "    }\n",
       "\n",
       "    .dataframe thead th {\n",
       "        text-align: right;\n",
       "    }\n",
       "</style>\n",
       "<table border=\"1\" class=\"dataframe\">\n",
       "  <thead>\n",
       "    <tr style=\"text-align: right;\">\n",
       "      <th></th>\n",
       "      <th>Unnamed: 0</th>\n",
       "      <th>cut</th>\n",
       "      <th>color</th>\n",
       "      <th>clarity</th>\n",
       "      <th>carat_weight</th>\n",
       "      <th>cut_quality</th>\n",
       "      <th>lab</th>\n",
       "      <th>symmetry</th>\n",
       "      <th>polish</th>\n",
       "      <th>eye_clean</th>\n",
       "      <th>...</th>\n",
       "      <th>meas_depth</th>\n",
       "      <th>girdle_min</th>\n",
       "      <th>girdle_max</th>\n",
       "      <th>fluor_color</th>\n",
       "      <th>fluor_intensity</th>\n",
       "      <th>fancy_color_dominant_color</th>\n",
       "      <th>fancy_color_secondary_color</th>\n",
       "      <th>fancy_color_overtone</th>\n",
       "      <th>fancy_color_intensity</th>\n",
       "      <th>total_sales_price</th>\n",
       "    </tr>\n",
       "  </thead>\n",
       "  <tbody>\n",
       "    <tr>\n",
       "      <th>0</th>\n",
       "      <td>0</td>\n",
       "      <td>Round</td>\n",
       "      <td>E</td>\n",
       "      <td>VVS2</td>\n",
       "      <td>0.09</td>\n",
       "      <td>Excellent</td>\n",
       "      <td>IGI</td>\n",
       "      <td>Very Good</td>\n",
       "      <td>Very Good</td>\n",
       "      <td>unknown</td>\n",
       "      <td>...</td>\n",
       "      <td>1.79</td>\n",
       "      <td>M</td>\n",
       "      <td>M</td>\n",
       "      <td>unknown</td>\n",
       "      <td>NaN</td>\n",
       "      <td>unknown</td>\n",
       "      <td>unknown</td>\n",
       "      <td>unknown</td>\n",
       "      <td>unknown</td>\n",
       "      <td>200</td>\n",
       "    </tr>\n",
       "    <tr>\n",
       "      <th>2</th>\n",
       "      <td>2</td>\n",
       "      <td>Round</td>\n",
       "      <td>E</td>\n",
       "      <td>VVS2</td>\n",
       "      <td>0.09</td>\n",
       "      <td>Excellent</td>\n",
       "      <td>IGI</td>\n",
       "      <td>Very Good</td>\n",
       "      <td>Very Good</td>\n",
       "      <td>unknown</td>\n",
       "      <td>...</td>\n",
       "      <td>1.77</td>\n",
       "      <td>TN</td>\n",
       "      <td>M</td>\n",
       "      <td>unknown</td>\n",
       "      <td>NaN</td>\n",
       "      <td>unknown</td>\n",
       "      <td>unknown</td>\n",
       "      <td>unknown</td>\n",
       "      <td>unknown</td>\n",
       "      <td>200</td>\n",
       "    </tr>\n",
       "    <tr>\n",
       "      <th>4</th>\n",
       "      <td>4</td>\n",
       "      <td>Round</td>\n",
       "      <td>E</td>\n",
       "      <td>VVS2</td>\n",
       "      <td>0.09</td>\n",
       "      <td>Very Good</td>\n",
       "      <td>IGI</td>\n",
       "      <td>Very Good</td>\n",
       "      <td>Excellent</td>\n",
       "      <td>unknown</td>\n",
       "      <td>...</td>\n",
       "      <td>1.82</td>\n",
       "      <td>STK</td>\n",
       "      <td>STK</td>\n",
       "      <td>unknown</td>\n",
       "      <td>NaN</td>\n",
       "      <td>unknown</td>\n",
       "      <td>unknown</td>\n",
       "      <td>unknown</td>\n",
       "      <td>unknown</td>\n",
       "      <td>200</td>\n",
       "    </tr>\n",
       "    <tr>\n",
       "      <th>6</th>\n",
       "      <td>6</td>\n",
       "      <td>Round</td>\n",
       "      <td>E</td>\n",
       "      <td>VVS2</td>\n",
       "      <td>0.09</td>\n",
       "      <td>Very Good</td>\n",
       "      <td>IGI</td>\n",
       "      <td>Very Good</td>\n",
       "      <td>Very Good</td>\n",
       "      <td>unknown</td>\n",
       "      <td>...</td>\n",
       "      <td>1.84</td>\n",
       "      <td>STK</td>\n",
       "      <td>STK</td>\n",
       "      <td>unknown</td>\n",
       "      <td>NaN</td>\n",
       "      <td>unknown</td>\n",
       "      <td>unknown</td>\n",
       "      <td>unknown</td>\n",
       "      <td>unknown</td>\n",
       "      <td>200</td>\n",
       "    </tr>\n",
       "    <tr>\n",
       "      <th>8</th>\n",
       "      <td>8</td>\n",
       "      <td>Round</td>\n",
       "      <td>E</td>\n",
       "      <td>VVS2</td>\n",
       "      <td>0.09</td>\n",
       "      <td>Very Good</td>\n",
       "      <td>IGI</td>\n",
       "      <td>Very Good</td>\n",
       "      <td>Very Good</td>\n",
       "      <td>unknown</td>\n",
       "      <td>...</td>\n",
       "      <td>1.85</td>\n",
       "      <td>STK</td>\n",
       "      <td>TK</td>\n",
       "      <td>unknown</td>\n",
       "      <td>NaN</td>\n",
       "      <td>unknown</td>\n",
       "      <td>unknown</td>\n",
       "      <td>unknown</td>\n",
       "      <td>unknown</td>\n",
       "      <td>200</td>\n",
       "    </tr>\n",
       "    <tr>\n",
       "      <th>...</th>\n",
       "      <td>...</td>\n",
       "      <td>...</td>\n",
       "      <td>...</td>\n",
       "      <td>...</td>\n",
       "      <td>...</td>\n",
       "      <td>...</td>\n",
       "      <td>...</td>\n",
       "      <td>...</td>\n",
       "      <td>...</td>\n",
       "      <td>...</td>\n",
       "      <td>...</td>\n",
       "      <td>...</td>\n",
       "      <td>...</td>\n",
       "      <td>...</td>\n",
       "      <td>...</td>\n",
       "      <td>...</td>\n",
       "      <td>...</td>\n",
       "      <td>...</td>\n",
       "      <td>...</td>\n",
       "      <td>...</td>\n",
       "      <td>...</td>\n",
       "    </tr>\n",
       "    <tr>\n",
       "      <th>219694</th>\n",
       "      <td>219695</td>\n",
       "      <td>Round</td>\n",
       "      <td>D</td>\n",
       "      <td>IF</td>\n",
       "      <td>12.52</td>\n",
       "      <td>Excellent</td>\n",
       "      <td>HRD</td>\n",
       "      <td>Excellent</td>\n",
       "      <td>Excellent</td>\n",
       "      <td>unknown</td>\n",
       "      <td>...</td>\n",
       "      <td>9.24</td>\n",
       "      <td>unknown</td>\n",
       "      <td>unknown</td>\n",
       "      <td>unknown</td>\n",
       "      <td>NaN</td>\n",
       "      <td>unknown</td>\n",
       "      <td>unknown</td>\n",
       "      <td>unknown</td>\n",
       "      <td>unknown</td>\n",
       "      <td>1121792</td>\n",
       "    </tr>\n",
       "    <tr>\n",
       "      <th>219696</th>\n",
       "      <td>219697</td>\n",
       "      <td>Oval</td>\n",
       "      <td>H</td>\n",
       "      <td>VS2</td>\n",
       "      <td>18.88</td>\n",
       "      <td>unknown</td>\n",
       "      <td>GIA</td>\n",
       "      <td>Excellent</td>\n",
       "      <td>Excellent</td>\n",
       "      <td>unknown</td>\n",
       "      <td>...</td>\n",
       "      <td>8.69</td>\n",
       "      <td>TN</td>\n",
       "      <td>STK</td>\n",
       "      <td>unknown</td>\n",
       "      <td>Faint</td>\n",
       "      <td>unknown</td>\n",
       "      <td>unknown</td>\n",
       "      <td>unknown</td>\n",
       "      <td>unknown</td>\n",
       "      <td>1132347</td>\n",
       "    </tr>\n",
       "    <tr>\n",
       "      <th>219698</th>\n",
       "      <td>219699</td>\n",
       "      <td>Round</td>\n",
       "      <td>E</td>\n",
       "      <td>VS1</td>\n",
       "      <td>10.65</td>\n",
       "      <td>Excellent</td>\n",
       "      <td>GIA</td>\n",
       "      <td>Excellent</td>\n",
       "      <td>Excellent</td>\n",
       "      <td>unknown</td>\n",
       "      <td>...</td>\n",
       "      <td>8.66</td>\n",
       "      <td>M</td>\n",
       "      <td>STK</td>\n",
       "      <td>unknown</td>\n",
       "      <td>NaN</td>\n",
       "      <td>unknown</td>\n",
       "      <td>unknown</td>\n",
       "      <td>unknown</td>\n",
       "      <td>unknown</td>\n",
       "      <td>1210692</td>\n",
       "    </tr>\n",
       "    <tr>\n",
       "      <th>219700</th>\n",
       "      <td>219701</td>\n",
       "      <td>Round</td>\n",
       "      <td>E</td>\n",
       "      <td>VS1</td>\n",
       "      <td>18.07</td>\n",
       "      <td>Excellent</td>\n",
       "      <td>GIA</td>\n",
       "      <td>Excellent</td>\n",
       "      <td>Excellent</td>\n",
       "      <td>unknown</td>\n",
       "      <td>...</td>\n",
       "      <td>10.20</td>\n",
       "      <td>TN</td>\n",
       "      <td>M</td>\n",
       "      <td>unknown</td>\n",
       "      <td>NaN</td>\n",
       "      <td>unknown</td>\n",
       "      <td>unknown</td>\n",
       "      <td>unknown</td>\n",
       "      <td>unknown</td>\n",
       "      <td>1315496</td>\n",
       "    </tr>\n",
       "    <tr>\n",
       "      <th>219702</th>\n",
       "      <td>219703</td>\n",
       "      <td>Pear</td>\n",
       "      <td>unknown</td>\n",
       "      <td>VVS2</td>\n",
       "      <td>10.03</td>\n",
       "      <td>unknown</td>\n",
       "      <td>GIA</td>\n",
       "      <td>Very Good</td>\n",
       "      <td>Excellent</td>\n",
       "      <td>unknown</td>\n",
       "      <td>...</td>\n",
       "      <td>7.39</td>\n",
       "      <td>unknown</td>\n",
       "      <td>unknown</td>\n",
       "      <td>unknown</td>\n",
       "      <td>NaN</td>\n",
       "      <td>Yellow</td>\n",
       "      <td>unknown</td>\n",
       "      <td>unknown</td>\n",
       "      <td>Fancy Vivid</td>\n",
       "      <td>1449881</td>\n",
       "    </tr>\n",
       "  </tbody>\n",
       "</table>\n",
       "<p>109852 rows × 26 columns</p>\n",
       "</div>"
      ],
      "text/plain": [
       "        Unnamed: 0    cut    color clarity  carat_weight cut_quality  lab  \\\n",
       "0                0  Round        E    VVS2          0.09   Excellent  IGI   \n",
       "2                2  Round        E    VVS2          0.09   Excellent  IGI   \n",
       "4                4  Round        E    VVS2          0.09   Very Good  IGI   \n",
       "6                6  Round        E    VVS2          0.09   Very Good  IGI   \n",
       "8                8  Round        E    VVS2          0.09   Very Good  IGI   \n",
       "...            ...    ...      ...     ...           ...         ...  ...   \n",
       "219694      219695  Round        D      IF         12.52   Excellent  HRD   \n",
       "219696      219697   Oval        H     VS2         18.88     unknown  GIA   \n",
       "219698      219699  Round        E     VS1         10.65   Excellent  GIA   \n",
       "219700      219701  Round        E     VS1         18.07   Excellent  GIA   \n",
       "219702      219703   Pear  unknown    VVS2         10.03     unknown  GIA   \n",
       "\n",
       "         symmetry     polish eye_clean  ... meas_depth girdle_min  girdle_max  \\\n",
       "0       Very Good  Very Good   unknown  ...       1.79          M           M   \n",
       "2       Very Good  Very Good   unknown  ...       1.77         TN           M   \n",
       "4       Very Good  Excellent   unknown  ...       1.82        STK         STK   \n",
       "6       Very Good  Very Good   unknown  ...       1.84        STK         STK   \n",
       "8       Very Good  Very Good   unknown  ...       1.85        STK          TK   \n",
       "...           ...        ...       ...  ...        ...        ...         ...   \n",
       "219694  Excellent  Excellent   unknown  ...       9.24    unknown     unknown   \n",
       "219696  Excellent  Excellent   unknown  ...       8.69         TN         STK   \n",
       "219698  Excellent  Excellent   unknown  ...       8.66          M         STK   \n",
       "219700  Excellent  Excellent   unknown  ...      10.20         TN           M   \n",
       "219702  Very Good  Excellent   unknown  ...       7.39    unknown     unknown   \n",
       "\n",
       "        fluor_color  fluor_intensity  fancy_color_dominant_color  \\\n",
       "0           unknown              NaN                     unknown   \n",
       "2           unknown              NaN                     unknown   \n",
       "4           unknown              NaN                     unknown   \n",
       "6           unknown              NaN                     unknown   \n",
       "8           unknown              NaN                     unknown   \n",
       "...             ...              ...                         ...   \n",
       "219694      unknown              NaN                     unknown   \n",
       "219696      unknown            Faint                     unknown   \n",
       "219698      unknown              NaN                     unknown   \n",
       "219700      unknown              NaN                     unknown   \n",
       "219702      unknown              NaN                      Yellow   \n",
       "\n",
       "        fancy_color_secondary_color fancy_color_overtone  \\\n",
       "0                           unknown              unknown   \n",
       "2                           unknown              unknown   \n",
       "4                           unknown              unknown   \n",
       "6                           unknown              unknown   \n",
       "8                           unknown              unknown   \n",
       "...                             ...                  ...   \n",
       "219694                      unknown              unknown   \n",
       "219696                      unknown              unknown   \n",
       "219698                      unknown              unknown   \n",
       "219700                      unknown              unknown   \n",
       "219702                      unknown              unknown   \n",
       "\n",
       "       fancy_color_intensity total_sales_price  \n",
       "0                    unknown               200  \n",
       "2                    unknown               200  \n",
       "4                    unknown               200  \n",
       "6                    unknown               200  \n",
       "8                    unknown               200  \n",
       "...                      ...               ...  \n",
       "219694               unknown           1121792  \n",
       "219696               unknown           1132347  \n",
       "219698               unknown           1210692  \n",
       "219700               unknown           1315496  \n",
       "219702           Fancy Vivid           1449881  \n",
       "\n",
       "[109852 rows x 26 columns]"
      ]
     },
     "execution_count": 36,
     "metadata": {},
     "output_type": "execute_result"
    }
   ],
   "source": [
    "diamonds[::2]"
   ]
  },
  {
   "cell_type": "markdown",
   "metadata": {
    "id": "mNXqS4oox7TF"
   },
   "source": [
    "(0.5 балла) А теперь с индексами, кратными 6:"
   ]
  },
  {
   "cell_type": "code",
   "execution_count": 37,
   "metadata": {
    "id": "hy8LyzXix_SB"
   },
   "outputs": [
    {
     "data": {
      "text/html": [
       "<div>\n",
       "<style scoped>\n",
       "    .dataframe tbody tr th:only-of-type {\n",
       "        vertical-align: middle;\n",
       "    }\n",
       "\n",
       "    .dataframe tbody tr th {\n",
       "        vertical-align: top;\n",
       "    }\n",
       "\n",
       "    .dataframe thead th {\n",
       "        text-align: right;\n",
       "    }\n",
       "</style>\n",
       "<table border=\"1\" class=\"dataframe\">\n",
       "  <thead>\n",
       "    <tr style=\"text-align: right;\">\n",
       "      <th></th>\n",
       "      <th>Unnamed: 0</th>\n",
       "      <th>cut</th>\n",
       "      <th>color</th>\n",
       "      <th>clarity</th>\n",
       "      <th>carat_weight</th>\n",
       "      <th>cut_quality</th>\n",
       "      <th>lab</th>\n",
       "      <th>symmetry</th>\n",
       "      <th>polish</th>\n",
       "      <th>eye_clean</th>\n",
       "      <th>...</th>\n",
       "      <th>meas_depth</th>\n",
       "      <th>girdle_min</th>\n",
       "      <th>girdle_max</th>\n",
       "      <th>fluor_color</th>\n",
       "      <th>fluor_intensity</th>\n",
       "      <th>fancy_color_dominant_color</th>\n",
       "      <th>fancy_color_secondary_color</th>\n",
       "      <th>fancy_color_overtone</th>\n",
       "      <th>fancy_color_intensity</th>\n",
       "      <th>total_sales_price</th>\n",
       "    </tr>\n",
       "  </thead>\n",
       "  <tbody>\n",
       "    <tr>\n",
       "      <th>0</th>\n",
       "      <td>0</td>\n",
       "      <td>Round</td>\n",
       "      <td>E</td>\n",
       "      <td>VVS2</td>\n",
       "      <td>0.09</td>\n",
       "      <td>Excellent</td>\n",
       "      <td>IGI</td>\n",
       "      <td>Very Good</td>\n",
       "      <td>Very Good</td>\n",
       "      <td>unknown</td>\n",
       "      <td>...</td>\n",
       "      <td>1.79</td>\n",
       "      <td>M</td>\n",
       "      <td>M</td>\n",
       "      <td>unknown</td>\n",
       "      <td>NaN</td>\n",
       "      <td>unknown</td>\n",
       "      <td>unknown</td>\n",
       "      <td>unknown</td>\n",
       "      <td>unknown</td>\n",
       "      <td>200</td>\n",
       "    </tr>\n",
       "    <tr>\n",
       "      <th>6</th>\n",
       "      <td>6</td>\n",
       "      <td>Round</td>\n",
       "      <td>E</td>\n",
       "      <td>VVS2</td>\n",
       "      <td>0.09</td>\n",
       "      <td>Very Good</td>\n",
       "      <td>IGI</td>\n",
       "      <td>Very Good</td>\n",
       "      <td>Very Good</td>\n",
       "      <td>unknown</td>\n",
       "      <td>...</td>\n",
       "      <td>1.84</td>\n",
       "      <td>STK</td>\n",
       "      <td>STK</td>\n",
       "      <td>unknown</td>\n",
       "      <td>NaN</td>\n",
       "      <td>unknown</td>\n",
       "      <td>unknown</td>\n",
       "      <td>unknown</td>\n",
       "      <td>unknown</td>\n",
       "      <td>200</td>\n",
       "    </tr>\n",
       "    <tr>\n",
       "      <th>12</th>\n",
       "      <td>12</td>\n",
       "      <td>Round</td>\n",
       "      <td>E</td>\n",
       "      <td>VVS2</td>\n",
       "      <td>0.09</td>\n",
       "      <td>Very Good</td>\n",
       "      <td>IGI</td>\n",
       "      <td>Very Good</td>\n",
       "      <td>Very Good</td>\n",
       "      <td>unknown</td>\n",
       "      <td>...</td>\n",
       "      <td>1.77</td>\n",
       "      <td>STK</td>\n",
       "      <td>TK</td>\n",
       "      <td>unknown</td>\n",
       "      <td>NaN</td>\n",
       "      <td>unknown</td>\n",
       "      <td>unknown</td>\n",
       "      <td>unknown</td>\n",
       "      <td>unknown</td>\n",
       "      <td>200</td>\n",
       "    </tr>\n",
       "    <tr>\n",
       "      <th>18</th>\n",
       "      <td>18</td>\n",
       "      <td>Round</td>\n",
       "      <td>E</td>\n",
       "      <td>VVS2</td>\n",
       "      <td>0.09</td>\n",
       "      <td>Excellent</td>\n",
       "      <td>IGI</td>\n",
       "      <td>Very Good</td>\n",
       "      <td>Very Good</td>\n",
       "      <td>unknown</td>\n",
       "      <td>...</td>\n",
       "      <td>1.78</td>\n",
       "      <td>M</td>\n",
       "      <td>M</td>\n",
       "      <td>unknown</td>\n",
       "      <td>NaN</td>\n",
       "      <td>unknown</td>\n",
       "      <td>unknown</td>\n",
       "      <td>unknown</td>\n",
       "      <td>unknown</td>\n",
       "      <td>200</td>\n",
       "    </tr>\n",
       "    <tr>\n",
       "      <th>24</th>\n",
       "      <td>24</td>\n",
       "      <td>Round</td>\n",
       "      <td>L</td>\n",
       "      <td>I1</td>\n",
       "      <td>0.34</td>\n",
       "      <td>Excellent</td>\n",
       "      <td>IGI</td>\n",
       "      <td>Excellent</td>\n",
       "      <td>Excellent</td>\n",
       "      <td>unknown</td>\n",
       "      <td>...</td>\n",
       "      <td>0.00</td>\n",
       "      <td>unknown</td>\n",
       "      <td>unknown</td>\n",
       "      <td>unknown</td>\n",
       "      <td>NaN</td>\n",
       "      <td>unknown</td>\n",
       "      <td>unknown</td>\n",
       "      <td>unknown</td>\n",
       "      <td>unknown</td>\n",
       "      <td>204</td>\n",
       "    </tr>\n",
       "    <tr>\n",
       "      <th>...</th>\n",
       "      <td>...</td>\n",
       "      <td>...</td>\n",
       "      <td>...</td>\n",
       "      <td>...</td>\n",
       "      <td>...</td>\n",
       "      <td>...</td>\n",
       "      <td>...</td>\n",
       "      <td>...</td>\n",
       "      <td>...</td>\n",
       "      <td>...</td>\n",
       "      <td>...</td>\n",
       "      <td>...</td>\n",
       "      <td>...</td>\n",
       "      <td>...</td>\n",
       "      <td>...</td>\n",
       "      <td>...</td>\n",
       "      <td>...</td>\n",
       "      <td>...</td>\n",
       "      <td>...</td>\n",
       "      <td>...</td>\n",
       "      <td>...</td>\n",
       "    </tr>\n",
       "    <tr>\n",
       "      <th>219678</th>\n",
       "      <td>219679</td>\n",
       "      <td>Round</td>\n",
       "      <td>G</td>\n",
       "      <td>VS1</td>\n",
       "      <td>10.23</td>\n",
       "      <td>Excellent</td>\n",
       "      <td>GIA</td>\n",
       "      <td>Excellent</td>\n",
       "      <td>Excellent</td>\n",
       "      <td>unknown</td>\n",
       "      <td>...</td>\n",
       "      <td>8.69</td>\n",
       "      <td>TN</td>\n",
       "      <td>M</td>\n",
       "      <td>unknown</td>\n",
       "      <td>NaN</td>\n",
       "      <td>unknown</td>\n",
       "      <td>unknown</td>\n",
       "      <td>unknown</td>\n",
       "      <td>unknown</td>\n",
       "      <td>859320</td>\n",
       "    </tr>\n",
       "    <tr>\n",
       "      <th>219684</th>\n",
       "      <td>219685</td>\n",
       "      <td>Radiant</td>\n",
       "      <td>unknown</td>\n",
       "      <td>I1</td>\n",
       "      <td>0.89</td>\n",
       "      <td>unknown</td>\n",
       "      <td>GIA</td>\n",
       "      <td>Good</td>\n",
       "      <td>Good</td>\n",
       "      <td>unknown</td>\n",
       "      <td>...</td>\n",
       "      <td>3.16</td>\n",
       "      <td>TK</td>\n",
       "      <td>VTK</td>\n",
       "      <td>Blue</td>\n",
       "      <td>Medium</td>\n",
       "      <td>Red</td>\n",
       "      <td>unknown</td>\n",
       "      <td>unknown</td>\n",
       "      <td>Fancy</td>\n",
       "      <td>982560</td>\n",
       "    </tr>\n",
       "    <tr>\n",
       "      <th>219690</th>\n",
       "      <td>219691</td>\n",
       "      <td>Round</td>\n",
       "      <td>D</td>\n",
       "      <td>VVS2</td>\n",
       "      <td>10.10</td>\n",
       "      <td>Excellent</td>\n",
       "      <td>GIA</td>\n",
       "      <td>Excellent</td>\n",
       "      <td>Excellent</td>\n",
       "      <td>unknown</td>\n",
       "      <td>...</td>\n",
       "      <td>8.39</td>\n",
       "      <td>M</td>\n",
       "      <td>STK</td>\n",
       "      <td>unknown</td>\n",
       "      <td>NaN</td>\n",
       "      <td>unknown</td>\n",
       "      <td>unknown</td>\n",
       "      <td>unknown</td>\n",
       "      <td>unknown</td>\n",
       "      <td>1040739</td>\n",
       "    </tr>\n",
       "    <tr>\n",
       "      <th>219696</th>\n",
       "      <td>219697</td>\n",
       "      <td>Oval</td>\n",
       "      <td>H</td>\n",
       "      <td>VS2</td>\n",
       "      <td>18.88</td>\n",
       "      <td>unknown</td>\n",
       "      <td>GIA</td>\n",
       "      <td>Excellent</td>\n",
       "      <td>Excellent</td>\n",
       "      <td>unknown</td>\n",
       "      <td>...</td>\n",
       "      <td>8.69</td>\n",
       "      <td>TN</td>\n",
       "      <td>STK</td>\n",
       "      <td>unknown</td>\n",
       "      <td>Faint</td>\n",
       "      <td>unknown</td>\n",
       "      <td>unknown</td>\n",
       "      <td>unknown</td>\n",
       "      <td>unknown</td>\n",
       "      <td>1132347</td>\n",
       "    </tr>\n",
       "    <tr>\n",
       "      <th>219702</th>\n",
       "      <td>219703</td>\n",
       "      <td>Pear</td>\n",
       "      <td>unknown</td>\n",
       "      <td>VVS2</td>\n",
       "      <td>10.03</td>\n",
       "      <td>unknown</td>\n",
       "      <td>GIA</td>\n",
       "      <td>Very Good</td>\n",
       "      <td>Excellent</td>\n",
       "      <td>unknown</td>\n",
       "      <td>...</td>\n",
       "      <td>7.39</td>\n",
       "      <td>unknown</td>\n",
       "      <td>unknown</td>\n",
       "      <td>unknown</td>\n",
       "      <td>NaN</td>\n",
       "      <td>Yellow</td>\n",
       "      <td>unknown</td>\n",
       "      <td>unknown</td>\n",
       "      <td>Fancy Vivid</td>\n",
       "      <td>1449881</td>\n",
       "    </tr>\n",
       "  </tbody>\n",
       "</table>\n",
       "<p>36618 rows × 26 columns</p>\n",
       "</div>"
      ],
      "text/plain": [
       "        Unnamed: 0      cut    color clarity  carat_weight cut_quality  lab  \\\n",
       "0                0    Round        E    VVS2          0.09   Excellent  IGI   \n",
       "6                6    Round        E    VVS2          0.09   Very Good  IGI   \n",
       "12              12    Round        E    VVS2          0.09   Very Good  IGI   \n",
       "18              18    Round        E    VVS2          0.09   Excellent  IGI   \n",
       "24              24    Round        L      I1          0.34   Excellent  IGI   \n",
       "...            ...      ...      ...     ...           ...         ...  ...   \n",
       "219678      219679    Round        G     VS1         10.23   Excellent  GIA   \n",
       "219684      219685  Radiant  unknown      I1          0.89     unknown  GIA   \n",
       "219690      219691    Round        D    VVS2         10.10   Excellent  GIA   \n",
       "219696      219697     Oval        H     VS2         18.88     unknown  GIA   \n",
       "219702      219703     Pear  unknown    VVS2         10.03     unknown  GIA   \n",
       "\n",
       "         symmetry     polish eye_clean  ... meas_depth girdle_min  girdle_max  \\\n",
       "0       Very Good  Very Good   unknown  ...       1.79          M           M   \n",
       "6       Very Good  Very Good   unknown  ...       1.84        STK         STK   \n",
       "12      Very Good  Very Good   unknown  ...       1.77        STK          TK   \n",
       "18      Very Good  Very Good   unknown  ...       1.78          M           M   \n",
       "24      Excellent  Excellent   unknown  ...       0.00    unknown     unknown   \n",
       "...           ...        ...       ...  ...        ...        ...         ...   \n",
       "219678  Excellent  Excellent   unknown  ...       8.69         TN           M   \n",
       "219684       Good       Good   unknown  ...       3.16         TK         VTK   \n",
       "219690  Excellent  Excellent   unknown  ...       8.39          M         STK   \n",
       "219696  Excellent  Excellent   unknown  ...       8.69         TN         STK   \n",
       "219702  Very Good  Excellent   unknown  ...       7.39    unknown     unknown   \n",
       "\n",
       "        fluor_color  fluor_intensity  fancy_color_dominant_color  \\\n",
       "0           unknown              NaN                     unknown   \n",
       "6           unknown              NaN                     unknown   \n",
       "12          unknown              NaN                     unknown   \n",
       "18          unknown              NaN                     unknown   \n",
       "24          unknown              NaN                     unknown   \n",
       "...             ...              ...                         ...   \n",
       "219678      unknown              NaN                     unknown   \n",
       "219684         Blue           Medium                         Red   \n",
       "219690      unknown              NaN                     unknown   \n",
       "219696      unknown            Faint                     unknown   \n",
       "219702      unknown              NaN                      Yellow   \n",
       "\n",
       "        fancy_color_secondary_color fancy_color_overtone  \\\n",
       "0                           unknown              unknown   \n",
       "6                           unknown              unknown   \n",
       "12                          unknown              unknown   \n",
       "18                          unknown              unknown   \n",
       "24                          unknown              unknown   \n",
       "...                             ...                  ...   \n",
       "219678                      unknown              unknown   \n",
       "219684                      unknown              unknown   \n",
       "219690                      unknown              unknown   \n",
       "219696                      unknown              unknown   \n",
       "219702                      unknown              unknown   \n",
       "\n",
       "       fancy_color_intensity total_sales_price  \n",
       "0                    unknown               200  \n",
       "6                    unknown               200  \n",
       "12                   unknown               200  \n",
       "18                   unknown               200  \n",
       "24                   unknown               204  \n",
       "...                      ...               ...  \n",
       "219678               unknown            859320  \n",
       "219684                 Fancy            982560  \n",
       "219690               unknown           1040739  \n",
       "219696               unknown           1132347  \n",
       "219702           Fancy Vivid           1449881  \n",
       "\n",
       "[36618 rows x 26 columns]"
      ]
     },
     "execution_count": 37,
     "metadata": {},
     "output_type": "execute_result"
    }
   ],
   "source": [
    "diamonds[::6]"
   ]
  },
  {
   "cell_type": "markdown",
   "metadata": {
    "id": "u94LL979x_bV"
   },
   "source": [
    "(1 балл) Выберете из датасета только категорильные признаки и выведете датасет:"
   ]
  },
  {
   "cell_type": "code",
   "execution_count": 39,
   "metadata": {
    "id": "2_LBNDWXyOOl"
   },
   "outputs": [
    {
     "data": {
      "text/html": [
       "<div>\n",
       "<style scoped>\n",
       "    .dataframe tbody tr th:only-of-type {\n",
       "        vertical-align: middle;\n",
       "    }\n",
       "\n",
       "    .dataframe tbody tr th {\n",
       "        vertical-align: top;\n",
       "    }\n",
       "\n",
       "    .dataframe thead th {\n",
       "        text-align: right;\n",
       "    }\n",
       "</style>\n",
       "<table border=\"1\" class=\"dataframe\">\n",
       "  <thead>\n",
       "    <tr style=\"text-align: right;\">\n",
       "      <th></th>\n",
       "      <th>cut</th>\n",
       "      <th>color</th>\n",
       "      <th>clarity</th>\n",
       "      <th>cut_quality</th>\n",
       "      <th>lab</th>\n",
       "      <th>symmetry</th>\n",
       "      <th>polish</th>\n",
       "      <th>eye_clean</th>\n",
       "      <th>culet_size</th>\n",
       "      <th>culet_condition</th>\n",
       "      <th>girdle_min</th>\n",
       "      <th>girdle_max</th>\n",
       "      <th>fluor_color</th>\n",
       "      <th>fluor_intensity</th>\n",
       "      <th>fancy_color_dominant_color</th>\n",
       "      <th>fancy_color_secondary_color</th>\n",
       "      <th>fancy_color_overtone</th>\n",
       "      <th>fancy_color_intensity</th>\n",
       "    </tr>\n",
       "  </thead>\n",
       "  <tbody>\n",
       "    <tr>\n",
       "      <th>0</th>\n",
       "      <td>Round</td>\n",
       "      <td>E</td>\n",
       "      <td>VVS2</td>\n",
       "      <td>Excellent</td>\n",
       "      <td>IGI</td>\n",
       "      <td>Very Good</td>\n",
       "      <td>Very Good</td>\n",
       "      <td>unknown</td>\n",
       "      <td>N</td>\n",
       "      <td>unknown</td>\n",
       "      <td>M</td>\n",
       "      <td>M</td>\n",
       "      <td>unknown</td>\n",
       "      <td>NaN</td>\n",
       "      <td>unknown</td>\n",
       "      <td>unknown</td>\n",
       "      <td>unknown</td>\n",
       "      <td>unknown</td>\n",
       "    </tr>\n",
       "    <tr>\n",
       "      <th>1</th>\n",
       "      <td>Round</td>\n",
       "      <td>E</td>\n",
       "      <td>VVS2</td>\n",
       "      <td>Very Good</td>\n",
       "      <td>IGI</td>\n",
       "      <td>Very Good</td>\n",
       "      <td>Very Good</td>\n",
       "      <td>unknown</td>\n",
       "      <td>N</td>\n",
       "      <td>unknown</td>\n",
       "      <td>STK</td>\n",
       "      <td>STK</td>\n",
       "      <td>unknown</td>\n",
       "      <td>NaN</td>\n",
       "      <td>unknown</td>\n",
       "      <td>unknown</td>\n",
       "      <td>unknown</td>\n",
       "      <td>unknown</td>\n",
       "    </tr>\n",
       "    <tr>\n",
       "      <th>2</th>\n",
       "      <td>Round</td>\n",
       "      <td>E</td>\n",
       "      <td>VVS2</td>\n",
       "      <td>Excellent</td>\n",
       "      <td>IGI</td>\n",
       "      <td>Very Good</td>\n",
       "      <td>Very Good</td>\n",
       "      <td>unknown</td>\n",
       "      <td>unknown</td>\n",
       "      <td>unknown</td>\n",
       "      <td>TN</td>\n",
       "      <td>M</td>\n",
       "      <td>unknown</td>\n",
       "      <td>NaN</td>\n",
       "      <td>unknown</td>\n",
       "      <td>unknown</td>\n",
       "      <td>unknown</td>\n",
       "      <td>unknown</td>\n",
       "    </tr>\n",
       "    <tr>\n",
       "      <th>3</th>\n",
       "      <td>Round</td>\n",
       "      <td>E</td>\n",
       "      <td>VVS2</td>\n",
       "      <td>Excellent</td>\n",
       "      <td>IGI</td>\n",
       "      <td>Very Good</td>\n",
       "      <td>Very Good</td>\n",
       "      <td>unknown</td>\n",
       "      <td>unknown</td>\n",
       "      <td>unknown</td>\n",
       "      <td>M</td>\n",
       "      <td>STK</td>\n",
       "      <td>unknown</td>\n",
       "      <td>NaN</td>\n",
       "      <td>unknown</td>\n",
       "      <td>unknown</td>\n",
       "      <td>unknown</td>\n",
       "      <td>unknown</td>\n",
       "    </tr>\n",
       "    <tr>\n",
       "      <th>4</th>\n",
       "      <td>Round</td>\n",
       "      <td>E</td>\n",
       "      <td>VVS2</td>\n",
       "      <td>Very Good</td>\n",
       "      <td>IGI</td>\n",
       "      <td>Very Good</td>\n",
       "      <td>Excellent</td>\n",
       "      <td>unknown</td>\n",
       "      <td>N</td>\n",
       "      <td>unknown</td>\n",
       "      <td>STK</td>\n",
       "      <td>STK</td>\n",
       "      <td>unknown</td>\n",
       "      <td>NaN</td>\n",
       "      <td>unknown</td>\n",
       "      <td>unknown</td>\n",
       "      <td>unknown</td>\n",
       "      <td>unknown</td>\n",
       "    </tr>\n",
       "    <tr>\n",
       "      <th>...</th>\n",
       "      <td>...</td>\n",
       "      <td>...</td>\n",
       "      <td>...</td>\n",
       "      <td>...</td>\n",
       "      <td>...</td>\n",
       "      <td>...</td>\n",
       "      <td>...</td>\n",
       "      <td>...</td>\n",
       "      <td>...</td>\n",
       "      <td>...</td>\n",
       "      <td>...</td>\n",
       "      <td>...</td>\n",
       "      <td>...</td>\n",
       "      <td>...</td>\n",
       "      <td>...</td>\n",
       "      <td>...</td>\n",
       "      <td>...</td>\n",
       "      <td>...</td>\n",
       "    </tr>\n",
       "    <tr>\n",
       "      <th>219698</th>\n",
       "      <td>Round</td>\n",
       "      <td>E</td>\n",
       "      <td>VS1</td>\n",
       "      <td>Excellent</td>\n",
       "      <td>GIA</td>\n",
       "      <td>Excellent</td>\n",
       "      <td>Excellent</td>\n",
       "      <td>unknown</td>\n",
       "      <td>N</td>\n",
       "      <td>unknown</td>\n",
       "      <td>M</td>\n",
       "      <td>STK</td>\n",
       "      <td>unknown</td>\n",
       "      <td>NaN</td>\n",
       "      <td>unknown</td>\n",
       "      <td>unknown</td>\n",
       "      <td>unknown</td>\n",
       "      <td>unknown</td>\n",
       "    </tr>\n",
       "    <tr>\n",
       "      <th>219699</th>\n",
       "      <td>Radiant</td>\n",
       "      <td>unknown</td>\n",
       "      <td>VS2</td>\n",
       "      <td>unknown</td>\n",
       "      <td>GIA</td>\n",
       "      <td>Very Good</td>\n",
       "      <td>Very Good</td>\n",
       "      <td>unknown</td>\n",
       "      <td>unknown</td>\n",
       "      <td>unknown</td>\n",
       "      <td>TK</td>\n",
       "      <td>XTK</td>\n",
       "      <td>unknown</td>\n",
       "      <td>NaN</td>\n",
       "      <td>Green</td>\n",
       "      <td>unknown</td>\n",
       "      <td>NaN</td>\n",
       "      <td>Fancy Light</td>\n",
       "    </tr>\n",
       "    <tr>\n",
       "      <th>219700</th>\n",
       "      <td>Round</td>\n",
       "      <td>E</td>\n",
       "      <td>VS1</td>\n",
       "      <td>Excellent</td>\n",
       "      <td>GIA</td>\n",
       "      <td>Excellent</td>\n",
       "      <td>Excellent</td>\n",
       "      <td>unknown</td>\n",
       "      <td>N</td>\n",
       "      <td>unknown</td>\n",
       "      <td>TN</td>\n",
       "      <td>M</td>\n",
       "      <td>unknown</td>\n",
       "      <td>NaN</td>\n",
       "      <td>unknown</td>\n",
       "      <td>unknown</td>\n",
       "      <td>unknown</td>\n",
       "      <td>unknown</td>\n",
       "    </tr>\n",
       "    <tr>\n",
       "      <th>219701</th>\n",
       "      <td>Princess</td>\n",
       "      <td>unknown</td>\n",
       "      <td>SI2</td>\n",
       "      <td>unknown</td>\n",
       "      <td>GIA</td>\n",
       "      <td>Good</td>\n",
       "      <td>Good</td>\n",
       "      <td>unknown</td>\n",
       "      <td>N</td>\n",
       "      <td>unknown</td>\n",
       "      <td>XTN</td>\n",
       "      <td>VTK</td>\n",
       "      <td>unknown</td>\n",
       "      <td>Faint</td>\n",
       "      <td>Red</td>\n",
       "      <td>unknown</td>\n",
       "      <td>unknown</td>\n",
       "      <td>Fancy</td>\n",
       "    </tr>\n",
       "    <tr>\n",
       "      <th>219702</th>\n",
       "      <td>Pear</td>\n",
       "      <td>unknown</td>\n",
       "      <td>VVS2</td>\n",
       "      <td>unknown</td>\n",
       "      <td>GIA</td>\n",
       "      <td>Very Good</td>\n",
       "      <td>Excellent</td>\n",
       "      <td>unknown</td>\n",
       "      <td>unknown</td>\n",
       "      <td>unknown</td>\n",
       "      <td>unknown</td>\n",
       "      <td>unknown</td>\n",
       "      <td>unknown</td>\n",
       "      <td>NaN</td>\n",
       "      <td>Yellow</td>\n",
       "      <td>unknown</td>\n",
       "      <td>unknown</td>\n",
       "      <td>Fancy Vivid</td>\n",
       "    </tr>\n",
       "  </tbody>\n",
       "</table>\n",
       "<p>219703 rows × 18 columns</p>\n",
       "</div>"
      ],
      "text/plain": [
       "             cut    color clarity cut_quality  lab   symmetry     polish  \\\n",
       "0          Round        E    VVS2   Excellent  IGI  Very Good  Very Good   \n",
       "1          Round        E    VVS2   Very Good  IGI  Very Good  Very Good   \n",
       "2          Round        E    VVS2   Excellent  IGI  Very Good  Very Good   \n",
       "3          Round        E    VVS2   Excellent  IGI  Very Good  Very Good   \n",
       "4          Round        E    VVS2   Very Good  IGI  Very Good  Excellent   \n",
       "...          ...      ...     ...         ...  ...        ...        ...   \n",
       "219698     Round        E     VS1   Excellent  GIA  Excellent  Excellent   \n",
       "219699   Radiant  unknown     VS2     unknown  GIA  Very Good  Very Good   \n",
       "219700     Round        E     VS1   Excellent  GIA  Excellent  Excellent   \n",
       "219701  Princess  unknown     SI2     unknown  GIA       Good       Good   \n",
       "219702      Pear  unknown    VVS2     unknown  GIA  Very Good  Excellent   \n",
       "\n",
       "       eye_clean culet_size culet_condition girdle_min girdle_max fluor_color  \\\n",
       "0        unknown          N         unknown          M          M     unknown   \n",
       "1        unknown          N         unknown        STK        STK     unknown   \n",
       "2        unknown    unknown         unknown         TN          M     unknown   \n",
       "3        unknown    unknown         unknown          M        STK     unknown   \n",
       "4        unknown          N         unknown        STK        STK     unknown   \n",
       "...          ...        ...             ...        ...        ...         ...   \n",
       "219698   unknown          N         unknown          M        STK     unknown   \n",
       "219699   unknown    unknown         unknown         TK        XTK     unknown   \n",
       "219700   unknown          N         unknown         TN          M     unknown   \n",
       "219701   unknown          N         unknown        XTN        VTK     unknown   \n",
       "219702   unknown    unknown         unknown    unknown    unknown     unknown   \n",
       "\n",
       "       fluor_intensity fancy_color_dominant_color fancy_color_secondary_color  \\\n",
       "0                  NaN                    unknown                     unknown   \n",
       "1                  NaN                    unknown                     unknown   \n",
       "2                  NaN                    unknown                     unknown   \n",
       "3                  NaN                    unknown                     unknown   \n",
       "4                  NaN                    unknown                     unknown   \n",
       "...                ...                        ...                         ...   \n",
       "219698             NaN                    unknown                     unknown   \n",
       "219699             NaN                      Green                     unknown   \n",
       "219700             NaN                    unknown                     unknown   \n",
       "219701           Faint                        Red                     unknown   \n",
       "219702             NaN                     Yellow                     unknown   \n",
       "\n",
       "       fancy_color_overtone fancy_color_intensity  \n",
       "0                   unknown               unknown  \n",
       "1                   unknown               unknown  \n",
       "2                   unknown               unknown  \n",
       "3                   unknown               unknown  \n",
       "4                   unknown               unknown  \n",
       "...                     ...                   ...  \n",
       "219698              unknown               unknown  \n",
       "219699                  NaN           Fancy Light  \n",
       "219700              unknown               unknown  \n",
       "219701              unknown                 Fancy  \n",
       "219702              unknown           Fancy Vivid  \n",
       "\n",
       "[219703 rows x 18 columns]"
      ]
     },
     "execution_count": 39,
     "metadata": {},
     "output_type": "execute_result"
    }
   ],
   "source": [
    "diamonds.select_dtypes(include=['category', 'object'])"
   ]
  },
  {
   "cell_type": "markdown",
   "metadata": {
    "id": "QANg8ziJkHGM"
   },
   "source": [
    ">**Примечание**\n",
    ">\n",
    ">Данный датасет можно использовать для задания 3 (с использованием `sklearn`)"
   ]
  },
  {
   "cell_type": "markdown",
   "metadata": {
    "id": "mV9jLhspyOgz"
   },
   "source": [
    "(0.5 балла) Выберете столбец с данными о цене бриллиантов и домножите его на тот столбец, только транспонированный, и выведите полученную матрицу:"
   ]
  },
  {
   "cell_type": "code",
   "execution_count": null,
   "metadata": {
    "id": "LawjtnoIymFu"
   },
   "outputs": [],
   "source": [
    "# your code here"
   ]
  },
  {
   "cell_type": "markdown",
   "metadata": {
    "id": "Pz02uapbkbGk"
   },
   "source": [
    "### Построение графиков"
   ]
  },
  {
   "cell_type": "markdown",
   "metadata": {
    "id": "_zhww-rd-c5c"
   },
   "source": [
    "**Требования к графику:**\n",
    "\n",
    "1.   График должен быть подписан\n",
    "2.   Оси должны быть подписаны\n",
    "3.   Должна быть легенда графика\n",
    "4.   График должен быть информативным (желательно без сильных выбросов)\n",
    "\n",
    "**Все надписи на русском языке!**"
   ]
  },
  {
   "cell_type": "markdown",
   "metadata": {
    "id": "mfebCvk0k2mo"
   },
   "source": [
    ">**Примечание**\n",
    ">\n",
    ">График необходимо строить для очищенных данных - в них не должно быть пропусков по осям, по которым строите график. При этом **не перезатирайте** имеющийся датафрейм!"
   ]
  },
  {
   "cell_type": "markdown",
   "metadata": {
    "id": "4R9Rwxdq-l21"
   },
   "source": [
    "(2 балла) Постройте график `цвет бриллианта - стоимость`:"
   ]
  },
  {
   "cell_type": "code",
   "execution_count": null,
   "metadata": {
    "id": "Fo6I0j5o-vQh"
   },
   "outputs": [],
   "source": [
    "# your code here"
   ]
  },
  {
   "cell_type": "markdown",
   "metadata": {
    "id": "W_UgFji5-vWx"
   },
   "source": [
    "(2 балла) Постройте график `лабараторная оценка - кол-во бриллиантов`:"
   ]
  },
  {
   "cell_type": "code",
   "execution_count": 42,
   "metadata": {
    "id": "nyT8-TRb_c24"
   },
   "outputs": [
    {
     "data": {
      "text/plain": [
       "<Axes: title={'center': 'Лабораторная оценка - кол-во бриллиантов'}, xlabel='lab'>"
      ]
     },
     "execution_count": 42,
     "metadata": {},
     "output_type": "execute_result"
    },
    {
     "data": {
      "image/png": "[encoded data removed]",
      "text/plain": [
       "<Figure size 640x480 with 1 Axes>"
      ]
     },
     "metadata": {},
     "output_type": "display_data"
    }
   ],
   "source": [
    "count_of_diamonds = diamonds['lab'].value_counts()\n",
    "count_of_diamonds.plot(kind='bar', title='Лабораторная оценка - кол-во бриллиантов')"
   ]
  },
  {
   "cell_type": "markdown",
   "metadata": {
    "id": "AgsMclnJ_c9H"
   },
   "source": [
    "(2 балла) Постройте график `вес бриллианта - стоимость`:"
   ]
  },
  {
   "cell_type": "code",
   "execution_count": null,
   "metadata": {
    "id": "tn-x3pwmANQe"
   },
   "outputs": [],
   "source": []
  },
  {
   "cell_type": "markdown",
   "metadata": {
    "id": "0LVC1KfEAwuw"
   },
   "source": [
    "(2 балла) Постройте график `система оценки GIA Cut - кол-во бриллиантов`:"
   ]
  },
  {
   "cell_type": "code",
   "execution_count": 50,
   "metadata": {
    "id": "IeuLooSIA232"
   },
   "outputs": [
    {
     "data": {
      "text/plain": [
       "<Axes: xlabel='cut_quality'>"
      ]
     },
     "execution_count": 50,
     "metadata": {},
     "output_type": "execute_result"
    },
    {
     "data": {
      "image/png": "[encoded data removed]",
      "text/plain": [
       "<Figure size 640x480 with 1 Axes>"
      ]
     },
     "metadata": {},
     "output_type": "display_data"
    }
   ],
   "source": [
    "count_of_diamonds = diamonds['cut_quality'].value_counts()\n",
    "count_of_diamonds.drop(labels=['unknown']).plot(kind='bar')\n"
   ]
  },
  {
   "cell_type": "markdown",
   "metadata": {
    "id": "DRaaNLidFDhL"
   },
   "source": [
    "(2 балла) **Сделайте выводы по построенным графикам:**"
   ]
  },
  {
   "cell_type": "markdown",
   "metadata": {
    "id": "GSuWCfdGLtn0"
   },
   "source": [
    ">*Подсказка для маленьких: Что вы можете сказать о графиках полученных выше для данного датасета?*"
   ]
  },
  {
   "cell_type": "markdown",
   "metadata": {
    "id": "iNdjR_X9lSt1"
   },
   "source": [
    "Ваши выводы здесь :)"
   ]
  },
  {
   "cell_type": "markdown",
   "metadata": {
    "id": "JKYRkX_rBxxu"
   },
   "source": [
    "## Задание 3. Модель - 30 баллов"
   ]
  },
  {
   "cell_type": "markdown",
   "metadata": {
    "id": "EJO9SwpII_uJ"
   },
   "source": [
    "В данном задании вам предстоит построить классифицирующую модель размер алмаза и его стоимости, а затем оценить полученную модель."
   ]
  },
  {
   "cell_type": "markdown",
   "metadata": {
    "id": "_8sA1qlRllrk"
   },
   "source": [
    ">**Примечание**\n",
    ">\n",
    ">Данная модель не претендует на самый верный индикатор стоимости алмаза, ведь мы не учитываем ничего больше чем стоимость алмаза. Исключительно для образовательных целей :)"
   ]
  },
  {
   "cell_type": "markdown",
   "metadata": {
    "id": "e78rVEGFJrVN"
   },
   "source": [
    "Для построения модели нам понадобится 4 столбца, а именно:\n",
    "- `meas_length`\n",
    "- `meas_width`\n",
    "- `meas_depth`\n",
    "- `total_sales_price`\n",
    "\n",
    "От остальных столбцов можно избавиться."
   ]
  },
  {
   "cell_type": "markdown",
   "metadata": {
    "id": "HhpeXcR1l-Ag"
   },
   "source": [
    "(1 балл) Создайте новый датасет и выведите его первые 10 строк:"
   ]
  },
  {
   "cell_type": "code",
   "execution_count": 51,
   "metadata": {
    "id": "K87VXeCxKFrU"
   },
   "outputs": [
    {
     "data": {
      "text/html": [
       "<div>\n",
       "<style scoped>\n",
       "    .dataframe tbody tr th:only-of-type {\n",
       "        vertical-align: middle;\n",
       "    }\n",
       "\n",
       "    .dataframe tbody tr th {\n",
       "        vertical-align: top;\n",
       "    }\n",
       "\n",
       "    .dataframe thead th {\n",
       "        text-align: right;\n",
       "    }\n",
       "</style>\n",
       "<table border=\"1\" class=\"dataframe\">\n",
       "  <thead>\n",
       "    <tr style=\"text-align: right;\">\n",
       "      <th></th>\n",
       "      <th>meas_length</th>\n",
       "      <th>meas_width</th>\n",
       "      <th>meas_depth</th>\n",
       "      <th>total_sales_price</th>\n",
       "    </tr>\n",
       "  </thead>\n",
       "  <tbody>\n",
       "    <tr>\n",
       "      <th>0</th>\n",
       "      <td>2.85</td>\n",
       "      <td>2.87</td>\n",
       "      <td>1.79</td>\n",
       "      <td>200</td>\n",
       "    </tr>\n",
       "    <tr>\n",
       "      <th>1</th>\n",
       "      <td>2.84</td>\n",
       "      <td>2.89</td>\n",
       "      <td>1.78</td>\n",
       "      <td>200</td>\n",
       "    </tr>\n",
       "    <tr>\n",
       "      <th>2</th>\n",
       "      <td>2.88</td>\n",
       "      <td>2.90</td>\n",
       "      <td>1.77</td>\n",
       "      <td>200</td>\n",
       "    </tr>\n",
       "    <tr>\n",
       "      <th>3</th>\n",
       "      <td>2.86</td>\n",
       "      <td>2.88</td>\n",
       "      <td>1.78</td>\n",
       "      <td>200</td>\n",
       "    </tr>\n",
       "    <tr>\n",
       "      <th>4</th>\n",
       "      <td>2.79</td>\n",
       "      <td>2.83</td>\n",
       "      <td>1.82</td>\n",
       "      <td>200</td>\n",
       "    </tr>\n",
       "    <tr>\n",
       "      <th>5</th>\n",
       "      <td>2.95</td>\n",
       "      <td>2.99</td>\n",
       "      <td>1.81</td>\n",
       "      <td>200</td>\n",
       "    </tr>\n",
       "    <tr>\n",
       "      <th>6</th>\n",
       "      <td>2.85</td>\n",
       "      <td>2.88</td>\n",
       "      <td>1.84</td>\n",
       "      <td>200</td>\n",
       "    </tr>\n",
       "    <tr>\n",
       "      <th>7</th>\n",
       "      <td>2.86</td>\n",
       "      <td>2.89</td>\n",
       "      <td>1.78</td>\n",
       "      <td>200</td>\n",
       "    </tr>\n",
       "    <tr>\n",
       "      <th>8</th>\n",
       "      <td>2.89</td>\n",
       "      <td>2.92</td>\n",
       "      <td>1.85</td>\n",
       "      <td>200</td>\n",
       "    </tr>\n",
       "    <tr>\n",
       "      <th>9</th>\n",
       "      <td>2.83</td>\n",
       "      <td>2.87</td>\n",
       "      <td>1.80</td>\n",
       "      <td>200</td>\n",
       "    </tr>\n",
       "  </tbody>\n",
       "</table>\n",
       "</div>"
      ],
      "text/plain": [
       "   meas_length  meas_width  meas_depth  total_sales_price\n",
       "0         2.85        2.87        1.79                200\n",
       "1         2.84        2.89        1.78                200\n",
       "2         2.88        2.90        1.77                200\n",
       "3         2.86        2.88        1.78                200\n",
       "4         2.79        2.83        1.82                200\n",
       "5         2.95        2.99        1.81                200\n",
       "6         2.85        2.88        1.84                200\n",
       "7         2.86        2.89        1.78                200\n",
       "8         2.89        2.92        1.85                200\n",
       "9         2.83        2.87        1.80                200"
      ]
     },
     "execution_count": 51,
     "metadata": {},
     "output_type": "execute_result"
    }
   ],
   "source": [
    "new_data = diamonds[['meas_length', 'meas_width', 'meas_depth', 'total_sales_price']]\n",
    "new_data.head(10)"
   ]
  },
  {
   "cell_type": "markdown",
   "metadata": {
    "id": "Uex8DVspKFxn"
   },
   "source": [
    "(1 балл) Перемешайте строки в датафрейме случайным образом:"
   ]
  },
  {
   "cell_type": "code",
   "execution_count": 52,
   "metadata": {
    "id": "5lRYIwGOKOnT"
   },
   "outputs": [
    {
     "data": {
      "text/html": [
       "<div>\n",
       "<style scoped>\n",
       "    .dataframe tbody tr th:only-of-type {\n",
       "        vertical-align: middle;\n",
       "    }\n",
       "\n",
       "    .dataframe tbody tr th {\n",
       "        vertical-align: top;\n",
       "    }\n",
       "\n",
       "    .dataframe thead th {\n",
       "        text-align: right;\n",
       "    }\n",
       "</style>\n",
       "<table border=\"1\" class=\"dataframe\">\n",
       "  <thead>\n",
       "    <tr style=\"text-align: right;\">\n",
       "      <th></th>\n",
       "      <th>meas_length</th>\n",
       "      <th>meas_width</th>\n",
       "      <th>meas_depth</th>\n",
       "      <th>total_sales_price</th>\n",
       "    </tr>\n",
       "  </thead>\n",
       "  <tbody>\n",
       "    <tr>\n",
       "      <th>0</th>\n",
       "      <td>4.44</td>\n",
       "      <td>4.47</td>\n",
       "      <td>2.78</td>\n",
       "      <td>1190</td>\n",
       "    </tr>\n",
       "    <tr>\n",
       "      <th>1</th>\n",
       "      <td>4.28</td>\n",
       "      <td>4.30</td>\n",
       "      <td>2.65</td>\n",
       "      <td>1026</td>\n",
       "    </tr>\n",
       "    <tr>\n",
       "      <th>2</th>\n",
       "      <td>8.80</td>\n",
       "      <td>5.36</td>\n",
       "      <td>3.16</td>\n",
       "      <td>5688</td>\n",
       "    </tr>\n",
       "    <tr>\n",
       "      <th>3</th>\n",
       "      <td>4.57</td>\n",
       "      <td>4.60</td>\n",
       "      <td>2.86</td>\n",
       "      <td>1148</td>\n",
       "    </tr>\n",
       "    <tr>\n",
       "      <th>4</th>\n",
       "      <td>4.59</td>\n",
       "      <td>4.61</td>\n",
       "      <td>2.75</td>\n",
       "      <td>1110</td>\n",
       "    </tr>\n",
       "    <tr>\n",
       "      <th>...</th>\n",
       "      <td>...</td>\n",
       "      <td>...</td>\n",
       "      <td>...</td>\n",
       "      <td>...</td>\n",
       "    </tr>\n",
       "    <tr>\n",
       "      <th>219698</th>\n",
       "      <td>4.26</td>\n",
       "      <td>4.29</td>\n",
       "      <td>2.67</td>\n",
       "      <td>786</td>\n",
       "    </tr>\n",
       "    <tr>\n",
       "      <th>219699</th>\n",
       "      <td>3.70</td>\n",
       "      <td>3.72</td>\n",
       "      <td>2.19</td>\n",
       "      <td>594</td>\n",
       "    </tr>\n",
       "    <tr>\n",
       "      <th>219700</th>\n",
       "      <td>10.42</td>\n",
       "      <td>7.15</td>\n",
       "      <td>4.15</td>\n",
       "      <td>29909</td>\n",
       "    </tr>\n",
       "    <tr>\n",
       "      <th>219701</th>\n",
       "      <td>5.59</td>\n",
       "      <td>5.66</td>\n",
       "      <td>3.54</td>\n",
       "      <td>4436</td>\n",
       "    </tr>\n",
       "    <tr>\n",
       "      <th>219702</th>\n",
       "      <td>4.49</td>\n",
       "      <td>4.53</td>\n",
       "      <td>2.75</td>\n",
       "      <td>1388</td>\n",
       "    </tr>\n",
       "  </tbody>\n",
       "</table>\n",
       "<p>219703 rows × 4 columns</p>\n",
       "</div>"
      ],
      "text/plain": [
       "        meas_length  meas_width  meas_depth  total_sales_price\n",
       "0              4.44        4.47        2.78               1190\n",
       "1              4.28        4.30        2.65               1026\n",
       "2              8.80        5.36        3.16               5688\n",
       "3              4.57        4.60        2.86               1148\n",
       "4              4.59        4.61        2.75               1110\n",
       "...             ...         ...         ...                ...\n",
       "219698         4.26        4.29        2.67                786\n",
       "219699         3.70        3.72        2.19                594\n",
       "219700        10.42        7.15        4.15              29909\n",
       "219701         5.59        5.66        3.54               4436\n",
       "219702         4.49        4.53        2.75               1388\n",
       "\n",
       "[219703 rows x 4 columns]"
      ]
     },
     "execution_count": 52,
     "metadata": {},
     "output_type": "execute_result"
    }
   ],
   "source": [
    "new_data = new_data.sample(frac=1).reset_index(drop=True)\n",
    "new_data"
   ]
  },
  {
   "cell_type": "markdown",
   "metadata": {
    "id": "iEHBNONDLl64"
   },
   "source": [
    "(1 балл) Сформируем новую колонку - для каждого бриллианта найдем сумму Минковского (p=3) по 3 измерениям бриллианта:"
   ]
  },
  {
   "cell_type": "code",
   "execution_count": null,
   "metadata": {
    "id": "V3CTAQbAMQsR"
   },
   "outputs": [],
   "source": []
  },
  {
   "cell_type": "markdown",
   "metadata": {
    "id": "z5s5_yB8n1Hp"
   },
   "source": [
    "(1 балл) Сформируем новый датасет из двух колонок - сумма Минковского и `total_sales_price`:"
   ]
  },
  {
   "cell_type": "code",
   "execution_count": null,
   "metadata": {
    "id": "tXxZnWS7n9q0"
   },
   "outputs": [],
   "source": [
    "# your code here"
   ]
  },
  {
   "cell_type": "markdown",
   "metadata": {
    "id": "aXCp0GmUKOvM"
   },
   "source": [
    "(1 балл) Разделите вашу выборку на две части в соотношении 8:2 - одна выборка будет для тренировка, а другая для тестов вашей модели:"
   ]
  },
  {
   "cell_type": "code",
   "execution_count": null,
   "metadata": {
    "id": "rxwHhdnFK3Lz"
   },
   "outputs": [],
   "source": [
    "# your code here"
   ]
  },
  {
   "cell_type": "markdown",
   "metadata": {
    "id": "lhuRoIMRK3S3"
   },
   "source": [
    "(2 балла) Постройте график зависимости стоимости от вашего нового параметра размера для тренинг-выборки:"
   ]
  },
  {
   "cell_type": "code",
   "execution_count": null,
   "metadata": {
    "id": "zdXv0wimNNZq"
   },
   "outputs": [],
   "source": [
    "# your code here"
   ]
  },
  {
   "cell_type": "markdown",
   "metadata": {
    "id": "0cUx_FSiNOUx"
   },
   "source": [
    "(2 балла) Нанесите на тот же график тестовую выборку, используя другой цвет (не забудьте про параметр прозрачности):"
   ]
  },
  {
   "cell_type": "code",
   "execution_count": null,
   "metadata": {
    "id": "R09w4W7VNnM2"
   },
   "outputs": [],
   "source": [
    "# your code here"
   ]
  },
  {
   "cell_type": "markdown",
   "metadata": {
    "id": "VwIIccnpNnVj"
   },
   "source": [
    "(3 балла) Найдите для каждой бриллианта из тестовой выборки его \"ближайшего соседа\" из тренинг-выборки. Для каждого бриллианта из тестовой выборки найдите расстояния до соответствующего ближайшего соседа:"
   ]
  },
  {
   "cell_type": "code",
   "execution_count": null,
   "metadata": {
    "id": "t_jpKJ54OBb0"
   },
   "outputs": [],
   "source": [
    "# your code here"
   ]
  },
  {
   "cell_type": "markdown",
   "metadata": {
    "id": "7R0uaHqurV_u"
   },
   "source": [
    "(3 балла) Найдите насколько сильно (в процентах) отличается цена бриллиантов из тестовой выборки от их соответствующих ближайших соседей:"
   ]
  },
  {
   "cell_type": "code",
   "execution_count": null,
   "metadata": {
    "id": "Uy2ngWJ4rn-4"
   },
   "outputs": [],
   "source": [
    "# your code here"
   ]
  },
  {
   "cell_type": "markdown",
   "metadata": {
    "id": "tl0CHY6_OAxU"
   },
   "source": [
    "**Данная модель является выдумкой автора. Не важен коэффициент ошибки, важны ваши шаги для получения коэффициента.**"
   ]
  },
  {
   "cell_type": "markdown",
   "metadata": {
    "id": "AbrAdKSUrqz5"
   },
   "source": [
    "### Введение в машинное обучение"
   ]
  },
  {
   "cell_type": "markdown",
   "metadata": {
    "id": "I6sqXZLYuox4"
   },
   "source": [
    "Теперь давайте познакомимся с таким сильным инструментом как `sklearn`."
   ]
  },
  {
   "cell_type": "markdown",
   "metadata": {
    "id": "q4OpdbhwsuAX"
   },
   "source": [
    "Вам необходимо:\n",
    "1. выбрать 2 категориальных признака\n",
    "2. на их основе обучить решающее дерево\n",
    "3. оценить среднеквадратичную ошибку цены бриллианта\n",
    "4. сделать пп. 1-3 и выбрать ту пару, которая дает лучший результат\n",
    "5. сделать выводы"
   ]
  },
  {
   "cell_type": "markdown",
   "metadata": {
    "id": "rScraaVSxQlT"
   },
   "source": [
    "(3 балла) Мы работаем с категориальными признаками, для них не понятно что есть \"больше\" и \"меньше\". Поэтому нам нужно предварительно закодировать значения наших признаков, с чем нам поможет [OneHotEncoder](https://scikit-learn.org/stable/modules/generated/sklearn.preprocessing.OneHotEncoder.html):"
   ]
  },
  {
   "cell_type": "code",
   "execution_count": null,
   "metadata": {
    "id": "G8hDstLlxjry"
   },
   "outputs": [],
   "source": [
    "# your code here"
   ]
  },
  {
   "cell_type": "markdown",
   "metadata": {
    "id": "ig8t-nmRvojA"
   },
   "source": [
    "(3 балла) Разбейте датасет на обучающую и тестовую выбору. Для этого вам поможет [train_test_split](https://scikit-learn.org/stable/modules/generated/sklearn.model_selection.train_test_split.html):"
   ]
  },
  {
   "cell_type": "code",
   "execution_count": null,
   "metadata": {
    "id": "ChVKP43AwY8i"
   },
   "outputs": [],
   "source": [
    "# your code here"
   ]
  },
  {
   "cell_type": "markdown",
   "metadata": {
    "id": "gbv2zLpkwZsq"
   },
   "source": [
    "(3 балла) Затем создайте и обучите вашу модель - [DecisionTreeRegressor](https://scikit-learn.org/stable/modules/generated/sklearn.tree.DecisionTreeRegressor.html):"
   ]
  },
  {
   "cell_type": "code",
   "execution_count": null,
   "metadata": {
    "id": "Qfvv2j6Sws8p"
   },
   "outputs": [],
   "source": [
    "# your code here"
   ]
  },
  {
   "cell_type": "markdown",
   "metadata": {
    "id": "nUvBoY1pwtIv"
   },
   "source": [
    "(3 балла) Оцените ошибку вашей модели при помощи [mean_squared_error](https://scikit-learn.org/stable/modules/generated/sklearn.metrics.mean_squared_error.html):"
   ]
  },
  {
   "cell_type": "code",
   "execution_count": null,
   "metadata": {
    "id": "q946oHPaxGA4"
   },
   "outputs": [],
   "source": [
    "# your code here"
   ]
  },
  {
   "cell_type": "markdown",
   "metadata": {
    "id": "scWwHLEKxGPl"
   },
   "source": [
    "(3 балла) **Сделайте выводы какие категориальные признаки лучше:**"
   ]
  },
  {
   "cell_type": "markdown",
   "metadata": {
    "id": "djE6Ke2bL5WS"
   },
   "source": [
    "*Подсказки для маленьких: Что вы можете сказать о зависимости по вашей выборке признаков? Какой вы можете сделать вывод об готовых инструментах для работы и написанных Вами?*"
   ]
  },
  {
   "cell_type": "markdown",
   "metadata": {
    "id": "lu36_N58uvui"
   },
   "source": [
    "Ваши выводы здесь :)"
   ]
  }
 ],
 "metadata": {
  "colab": {
   "provenance": []
  },
  "kernelspec": {
   "display_name": "Python 3 (ipykernel)",
   "language": "python",
   "name": "python3"
  },
  "language_info": {
   "codemirror_mode": {
    "name": "ipython",
    "version": 3
   },
   "file_extension": ".py",
   "mimetype": "text/x-python",
   "name": "python",
   "nbconvert_exporter": "python",
   "pygments_lexer": "ipython3",
   "version": "3.11.8"
  }
 },
 "nbformat": 4,
 "nbformat_minor": 4
}
